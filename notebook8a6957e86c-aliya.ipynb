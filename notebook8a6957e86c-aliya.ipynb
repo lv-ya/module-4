{
 "cells": [
  {
   "cell_type": "code",
   "execution_count": 1,
   "id": "df971d30",
   "metadata": {
    "_cell_guid": "b1076dfc-b9ad-4769-8c92-a6c4dae69d19",
    "_uuid": "8f2839f25d086af736a60e9eeb907d3b93b6e0e5",
    "execution": {
     "iopub.execute_input": "2021-07-22T23:15:26.427048Z",
     "iopub.status.busy": "2021-07-22T23:15:26.425708Z",
     "iopub.status.idle": "2021-07-22T23:15:26.439882Z",
     "shell.execute_reply": "2021-07-22T23:15:26.439299Z",
     "shell.execute_reply.started": "2021-07-22T23:08:46.066391Z"
    },
    "papermill": {
     "duration": 0.09079,
     "end_time": "2021-07-22T23:15:26.440044",
     "exception": false,
     "start_time": "2021-07-22T23:15:26.349254",
     "status": "completed"
    },
    "tags": []
   },
   "outputs": [
    {
     "name": "stdout",
     "output_type": "stream",
     "text": [
      "/kaggle/input/sf-dst-scoring/sample_submission.csv\n",
      "/kaggle/input/sf-dst-scoring/train.csv\n",
      "/kaggle/input/sf-dst-scoring/test.csv\n"
     ]
    }
   ],
   "source": [
    "# This Python 3 environment comes with many helpful analytics libraries installed\n",
    "# It is defined by the kaggle/python Docker image: https://github.com/kaggle/docker-python\n",
    "# For example, here's several helpful packages to load\n",
    "\n",
    "import numpy as np # linear algebra\n",
    "import pandas as pd # data processing, CSV file I/O (e.g. pd.read_csv)\n",
    "\n",
    "# Input data files are available in the read-only \"../input/\" directory\n",
    "# For example, running this (by clicking run or pressing Shift+Enter) will list all files under the input directory\n",
    "\n",
    "import os\n",
    "for dirname, _, filenames in os.walk('/kaggle/input'):\n",
    "    for filename in filenames:\n",
    "        print(os.path.join(dirname, filename))\n",
    "\n",
    "# You can write up to 20GB to the current directory (/kaggle/working/) that gets preserved as output when you create a version using \"Save & Run All\" \n",
    "# You can also write temporary files to /kaggle/temp/, but they won't be saved outside of the current session"
   ]
  },
  {
   "cell_type": "code",
   "execution_count": 2,
   "id": "a3123ddc",
   "metadata": {
    "execution": {
     "iopub.execute_input": "2021-07-22T23:15:26.592371Z",
     "iopub.status.busy": "2021-07-22T23:15:26.591650Z",
     "iopub.status.idle": "2021-07-22T23:15:28.154377Z",
     "shell.execute_reply": "2021-07-22T23:15:28.153262Z",
     "shell.execute_reply.started": "2021-07-22T23:08:46.161272Z"
    },
    "papermill": {
     "duration": 1.643101,
     "end_time": "2021-07-22T23:15:28.154557",
     "exception": false,
     "start_time": "2021-07-22T23:15:26.511456",
     "status": "completed"
    },
    "tags": []
   },
   "outputs": [],
   "source": [
    "import pandas as pd\n",
    "import numpy as np\n",
    "from matplotlib import pyplot as plt\n",
    "%matplotlib inline\n",
    "\n",
    "import seaborn as sns\n",
    "from sklearn.model_selection import train_test_split\n",
    "from sklearn.metrics import confusion_matrix, auc, roc_auc_score, roc_curve, mean_squared_error, precision_score, recall_score, f1_score, accuracy_score\n",
    "from sklearn.preprocessing import LabelEncoder, OneHotEncoder, StandardScaler, PolynomialFeatures, PolynomialFeatures\n",
    "from sklearn.feature_selection import f_classif, mutual_info_classif\n",
    "from sklearn.model_selection import GridSearchCV\n",
    "from sklearn.tree import DecisionTreeClassifier\n",
    "from sklearn.linear_model import LogisticRegression\n",
    "from catboost import CatBoostClassifier"
   ]
  },
  {
   "cell_type": "markdown",
   "id": "2ffedbb8",
   "metadata": {
    "papermill": {
     "duration": 0.070538,
     "end_time": "2021-07-22T23:15:28.296636",
     "exception": false,
     "start_time": "2021-07-22T23:15:28.226098",
     "status": "completed"
    },
    "tags": []
   },
   "source": [
    "# Загрузка и первичный осмотр датасет"
   ]
  },
  {
   "cell_type": "code",
   "execution_count": 3,
   "id": "fc5a8e19",
   "metadata": {
    "execution": {
     "iopub.execute_input": "2021-07-22T23:15:28.444384Z",
     "iopub.status.busy": "2021-07-22T23:15:28.443427Z",
     "iopub.status.idle": "2021-07-22T23:15:31.392835Z",
     "shell.execute_reply": "2021-07-22T23:15:31.392178Z",
     "shell.execute_reply.started": "2021-07-22T23:08:47.942300Z"
    },
    "papermill": {
     "duration": 3.026141,
     "end_time": "2021-07-22T23:15:31.392984",
     "exception": false,
     "start_time": "2021-07-22T23:15:28.366843",
     "status": "completed"
    },
    "tags": []
   },
   "outputs": [],
   "source": [
    "# Зафиксируем версию пакетов, чтобы эксперименты были воспроизводимы:\n",
    "!pip freeze > requiremnts.txt"
   ]
  },
  {
   "cell_type": "code",
   "execution_count": 4,
   "id": "de55577f",
   "metadata": {
    "execution": {
     "iopub.execute_input": "2021-07-22T23:15:31.541074Z",
     "iopub.status.busy": "2021-07-22T23:15:31.540387Z",
     "iopub.status.idle": "2021-07-22T23:15:31.542039Z",
     "shell.execute_reply": "2021-07-22T23:15:31.542529Z",
     "shell.execute_reply.started": "2021-07-22T23:08:50.866849Z"
    },
    "papermill": {
     "duration": 0.078182,
     "end_time": "2021-07-22T23:15:31.542687",
     "exception": false,
     "start_time": "2021-07-22T23:15:31.464505",
     "status": "completed"
    },
    "tags": []
   },
   "outputs": [],
   "source": [
    "# Зафиксируем RANDOM_SEED, чтобы эксперименты были воспроизводимы\n",
    "RANDOM_SEED = 42"
   ]
  },
  {
   "cell_type": "code",
   "execution_count": 5,
   "id": "d35971b1",
   "metadata": {
    "execution": {
     "iopub.execute_input": "2021-07-22T23:15:31.687152Z",
     "iopub.status.busy": "2021-07-22T23:15:31.686457Z",
     "iopub.status.idle": "2021-07-22T23:15:32.064208Z",
     "shell.execute_reply": "2021-07-22T23:15:32.064747Z",
     "shell.execute_reply.started": "2021-07-22T23:08:50.874129Z"
    },
    "papermill": {
     "duration": 0.451629,
     "end_time": "2021-07-22T23:15:32.064922",
     "exception": false,
     "start_time": "2021-07-22T23:15:31.613293",
     "status": "completed"
    },
    "tags": []
   },
   "outputs": [],
   "source": [
    "path = '/kaggle/input/sf-dst-scoring/'\n",
    "train = pd.read_csv(path+'train.csv', encoding = 'ISO-8859-1', low_memory = False)\n",
    "test = pd.read_csv(path+\"test.csv\", encoding = 'ISO-8859-1', low_memory = False)\n",
    "submission = pd.read_csv(path+'sample_submission.csv', encoding = 'ISO-8859-1', low_memory = False)"
   ]
  },
  {
   "cell_type": "markdown",
   "id": "2aa973be",
   "metadata": {
    "papermill": {
     "duration": 0.071753,
     "end_time": "2021-07-22T23:15:32.207780",
     "exception": false,
     "start_time": "2021-07-22T23:15:32.136027",
     "status": "completed"
    },
    "tags": []
   },
   "source": [
    "## Описания полей"
   ]
  },
  {
   "cell_type": "markdown",
   "id": "c31fc65b",
   "metadata": {
    "papermill": {
     "duration": 0.069989,
     "end_time": "2021-07-22T23:15:32.349577",
     "exception": false,
     "start_time": "2021-07-22T23:15:32.279588",
     "status": "completed"
    },
    "tags": []
   },
   "source": [
    "* client_id - идентификатор клиента\n",
    "* education - уровень образования\n",
    "* sex - пол заемщика\n",
    "* age - возраст заемщика\n",
    "* car - флаг наличия автомобиля\n",
    "* car_type - флаг автомобиля иномарки\n",
    "* decline_app_cnt - количество отказанных прошлых заявок\n",
    "* good_work - флаг наличия “хорошей” работы\n",
    "* bki_request_cnt - количество запросов клиента в БКИ о своей кредитной истории\n",
    "* home_address - категоризатор домашнего адреса\n",
    "* work_address - категоризатор рабочего адреса\n",
    "* income - доход заемщика\n",
    "* foreign_passport - наличие загранпаспорта\n",
    "* sna - связь заемщика с клиентами банка\n",
    "* first_time - давность наличия информации о заемщике\n",
    "* score_bki - скоринговый балл по данным из БКИ\n",
    "* region_rating - рейтинг региона\n",
    "* app_date - дата подачи заявки\n",
    "* default - флаг дефолта по кредит"
   ]
  },
  {
   "cell_type": "code",
   "execution_count": 6,
   "id": "abfa6154",
   "metadata": {
    "execution": {
     "iopub.execute_input": "2021-07-22T23:15:32.494350Z",
     "iopub.status.busy": "2021-07-22T23:15:32.493715Z",
     "iopub.status.idle": "2021-07-22T23:15:32.567177Z",
     "shell.execute_reply": "2021-07-22T23:15:32.567682Z",
     "shell.execute_reply.started": "2021-07-22T23:08:51.225353Z"
    },
    "papermill": {
     "duration": 0.147951,
     "end_time": "2021-07-22T23:15:32.567866",
     "exception": false,
     "start_time": "2021-07-22T23:15:32.419915",
     "status": "completed"
    },
    "tags": []
   },
   "outputs": [
    {
     "name": "stdout",
     "output_type": "stream",
     "text": [
      "<class 'pandas.core.frame.DataFrame'>\n",
      "RangeIndex: 73799 entries, 0 to 73798\n",
      "Data columns (total 19 columns):\n",
      " #   Column            Non-Null Count  Dtype  \n",
      "---  ------            --------------  -----  \n",
      " 0   client_id         73799 non-null  int64  \n",
      " 1   app_date          73799 non-null  object \n",
      " 2   education         73492 non-null  object \n",
      " 3   sex               73799 non-null  object \n",
      " 4   age               73799 non-null  int64  \n",
      " 5   car               73799 non-null  object \n",
      " 6   car_type          73799 non-null  object \n",
      " 7   decline_app_cnt   73799 non-null  int64  \n",
      " 8   good_work         73799 non-null  int64  \n",
      " 9   score_bki         73799 non-null  float64\n",
      " 10  bki_request_cnt   73799 non-null  int64  \n",
      " 11  region_rating     73799 non-null  int64  \n",
      " 12  home_address      73799 non-null  int64  \n",
      " 13  work_address      73799 non-null  int64  \n",
      " 14  income            73799 non-null  int64  \n",
      " 15  sna               73799 non-null  int64  \n",
      " 16  first_time        73799 non-null  int64  \n",
      " 17  foreign_passport  73799 non-null  object \n",
      " 18  default           73799 non-null  int64  \n",
      "dtypes: float64(1), int64(12), object(6)\n",
      "memory usage: 10.7+ MB\n"
     ]
    }
   ],
   "source": [
    "train.info()"
   ]
  },
  {
   "cell_type": "code",
   "execution_count": 7,
   "id": "83b1d082",
   "metadata": {
    "execution": {
     "iopub.execute_input": "2021-07-22T23:15:32.713594Z",
     "iopub.status.busy": "2021-07-22T23:15:32.712919Z",
     "iopub.status.idle": "2021-07-22T23:15:32.738714Z",
     "shell.execute_reply": "2021-07-22T23:15:32.739216Z",
     "shell.execute_reply.started": "2021-07-22T23:08:51.305903Z"
    },
    "papermill": {
     "duration": 0.099907,
     "end_time": "2021-07-22T23:15:32.739384",
     "exception": false,
     "start_time": "2021-07-22T23:15:32.639477",
     "status": "completed"
    },
    "tags": []
   },
   "outputs": [
    {
     "data": {
      "text/html": [
       "<div>\n",
       "<style scoped>\n",
       "    .dataframe tbody tr th:only-of-type {\n",
       "        vertical-align: middle;\n",
       "    }\n",
       "\n",
       "    .dataframe tbody tr th {\n",
       "        vertical-align: top;\n",
       "    }\n",
       "\n",
       "    .dataframe thead th {\n",
       "        text-align: right;\n",
       "    }\n",
       "</style>\n",
       "<table border=\"1\" class=\"dataframe\">\n",
       "  <thead>\n",
       "    <tr style=\"text-align: right;\">\n",
       "      <th></th>\n",
       "      <th>client_id</th>\n",
       "      <th>app_date</th>\n",
       "      <th>education</th>\n",
       "      <th>sex</th>\n",
       "      <th>age</th>\n",
       "      <th>car</th>\n",
       "      <th>car_type</th>\n",
       "      <th>decline_app_cnt</th>\n",
       "      <th>good_work</th>\n",
       "      <th>score_bki</th>\n",
       "      <th>bki_request_cnt</th>\n",
       "      <th>region_rating</th>\n",
       "      <th>home_address</th>\n",
       "      <th>work_address</th>\n",
       "      <th>income</th>\n",
       "      <th>sna</th>\n",
       "      <th>first_time</th>\n",
       "      <th>foreign_passport</th>\n",
       "      <th>default</th>\n",
       "    </tr>\n",
       "  </thead>\n",
       "  <tbody>\n",
       "    <tr>\n",
       "      <th>0</th>\n",
       "      <td>25905</td>\n",
       "      <td>01FEB2014</td>\n",
       "      <td>SCH</td>\n",
       "      <td>M</td>\n",
       "      <td>62</td>\n",
       "      <td>Y</td>\n",
       "      <td>Y</td>\n",
       "      <td>0</td>\n",
       "      <td>0</td>\n",
       "      <td>-2.008753</td>\n",
       "      <td>1</td>\n",
       "      <td>50</td>\n",
       "      <td>1</td>\n",
       "      <td>2</td>\n",
       "      <td>18000</td>\n",
       "      <td>4</td>\n",
       "      <td>1</td>\n",
       "      <td>N</td>\n",
       "      <td>0</td>\n",
       "    </tr>\n",
       "    <tr>\n",
       "      <th>1</th>\n",
       "      <td>63161</td>\n",
       "      <td>12MAR2014</td>\n",
       "      <td>SCH</td>\n",
       "      <td>F</td>\n",
       "      <td>59</td>\n",
       "      <td>N</td>\n",
       "      <td>N</td>\n",
       "      <td>0</td>\n",
       "      <td>0</td>\n",
       "      <td>-1.532276</td>\n",
       "      <td>3</td>\n",
       "      <td>50</td>\n",
       "      <td>2</td>\n",
       "      <td>3</td>\n",
       "      <td>19000</td>\n",
       "      <td>4</td>\n",
       "      <td>1</td>\n",
       "      <td>N</td>\n",
       "      <td>0</td>\n",
       "    </tr>\n",
       "    <tr>\n",
       "      <th>2</th>\n",
       "      <td>25887</td>\n",
       "      <td>01FEB2014</td>\n",
       "      <td>SCH</td>\n",
       "      <td>M</td>\n",
       "      <td>25</td>\n",
       "      <td>Y</td>\n",
       "      <td>N</td>\n",
       "      <td>2</td>\n",
       "      <td>0</td>\n",
       "      <td>-1.408142</td>\n",
       "      <td>1</td>\n",
       "      <td>80</td>\n",
       "      <td>1</td>\n",
       "      <td>2</td>\n",
       "      <td>30000</td>\n",
       "      <td>1</td>\n",
       "      <td>4</td>\n",
       "      <td>Y</td>\n",
       "      <td>0</td>\n",
       "    </tr>\n",
       "    <tr>\n",
       "      <th>3</th>\n",
       "      <td>16222</td>\n",
       "      <td>23JAN2014</td>\n",
       "      <td>SCH</td>\n",
       "      <td>F</td>\n",
       "      <td>53</td>\n",
       "      <td>N</td>\n",
       "      <td>N</td>\n",
       "      <td>0</td>\n",
       "      <td>0</td>\n",
       "      <td>-2.057471</td>\n",
       "      <td>2</td>\n",
       "      <td>50</td>\n",
       "      <td>2</td>\n",
       "      <td>3</td>\n",
       "      <td>10000</td>\n",
       "      <td>1</td>\n",
       "      <td>3</td>\n",
       "      <td>N</td>\n",
       "      <td>0</td>\n",
       "    </tr>\n",
       "    <tr>\n",
       "      <th>4</th>\n",
       "      <td>101655</td>\n",
       "      <td>18APR2014</td>\n",
       "      <td>GRD</td>\n",
       "      <td>M</td>\n",
       "      <td>48</td>\n",
       "      <td>N</td>\n",
       "      <td>N</td>\n",
       "      <td>0</td>\n",
       "      <td>1</td>\n",
       "      <td>-1.244723</td>\n",
       "      <td>1</td>\n",
       "      <td>60</td>\n",
       "      <td>2</td>\n",
       "      <td>3</td>\n",
       "      <td>30000</td>\n",
       "      <td>1</td>\n",
       "      <td>4</td>\n",
       "      <td>Y</td>\n",
       "      <td>0</td>\n",
       "    </tr>\n",
       "  </tbody>\n",
       "</table>\n",
       "</div>"
      ],
      "text/plain": [
       "   client_id   app_date education sex  age car car_type  decline_app_cnt  \\\n",
       "0      25905  01FEB2014       SCH   M   62   Y        Y                0   \n",
       "1      63161  12MAR2014       SCH   F   59   N        N                0   \n",
       "2      25887  01FEB2014       SCH   M   25   Y        N                2   \n",
       "3      16222  23JAN2014       SCH   F   53   N        N                0   \n",
       "4     101655  18APR2014       GRD   M   48   N        N                0   \n",
       "\n",
       "   good_work  score_bki  bki_request_cnt  region_rating  home_address  \\\n",
       "0          0  -2.008753                1             50             1   \n",
       "1          0  -1.532276                3             50             2   \n",
       "2          0  -1.408142                1             80             1   \n",
       "3          0  -2.057471                2             50             2   \n",
       "4          1  -1.244723                1             60             2   \n",
       "\n",
       "   work_address  income  sna  first_time foreign_passport  default  \n",
       "0             2   18000    4           1                N        0  \n",
       "1             3   19000    4           1                N        0  \n",
       "2             2   30000    1           4                Y        0  \n",
       "3             3   10000    1           3                N        0  \n",
       "4             3   30000    1           4                Y        0  "
      ]
     },
     "execution_count": 7,
     "metadata": {},
     "output_type": "execute_result"
    }
   ],
   "source": [
    "train.head()"
   ]
  },
  {
   "cell_type": "markdown",
   "id": "20831b74",
   "metadata": {
    "papermill": {
     "duration": 0.072512,
     "end_time": "2021-07-22T23:15:32.884413",
     "exception": false,
     "start_time": "2021-07-22T23:15:32.811901",
     "status": "completed"
    },
    "tags": []
   },
   "source": [
    "# Изучаем свойства признаков датасет train"
   ]
  },
  {
   "cell_type": "markdown",
   "id": "65960006",
   "metadata": {
    "papermill": {
     "duration": 0.072953,
     "end_time": "2021-07-22T23:15:33.031108",
     "exception": false,
     "start_time": "2021-07-22T23:15:32.958155",
     "status": "completed"
    },
    "tags": []
   },
   "source": [
    "### Признак app_date "
   ]
  },
  {
   "cell_type": "markdown",
   "id": "5ab64407",
   "metadata": {
    "papermill": {
     "duration": 0.071201,
     "end_time": "2021-07-22T23:15:33.174314",
     "exception": false,
     "start_time": "2021-07-22T23:15:33.103113",
     "status": "completed"
    },
    "tags": []
   },
   "source": [
    "* Признак app_date - дата подачи заявки.\n",
    "* Поле app_date представлено как объект, его превратим в числовой признак.\n",
    "\n",
    "* Полное исследование признака показывает, что определенные влияние на целевой признак оказывает только месяц. остальные части даты вовсе не играют никакой роли для результата. Поэтому оставляем только значения месяца.В модели будем испытовать два варианта, категориальный и числовой."
   ]
  },
  {
   "cell_type": "code",
   "execution_count": 8,
   "id": "b90f92c7",
   "metadata": {
    "execution": {
     "iopub.execute_input": "2021-07-22T23:15:33.321754Z",
     "iopub.status.busy": "2021-07-22T23:15:33.321061Z",
     "iopub.status.idle": "2021-07-22T23:15:33.393173Z",
     "shell.execute_reply": "2021-07-22T23:15:33.392157Z",
     "shell.execute_reply.started": "2021-07-22T23:08:51.336703Z"
    },
    "papermill": {
     "duration": 0.147589,
     "end_time": "2021-07-22T23:15:33.393366",
     "exception": false,
     "start_time": "2021-07-22T23:15:33.245777",
     "status": "completed"
    },
    "tags": []
   },
   "outputs": [],
   "source": [
    "# Поле app_date представлено как объект, его превратим в числовые признаки отдельно год, месяц, день \n",
    "for obj in [train, test]:\n",
    "    dates = pd.to_datetime(obj.app_date, format=\"%d%b%Y\")\n",
    "    # obj['app_year'] = dates.dt.year\n",
    "    obj['app_month'] = dates.dt.month\n",
    "    # obj['app_day'] = dates.dt.day\n",
    "    # obj['app_weekday'] = dates.dt.dayofweek\n",
    "    # Рассчитываем  количества дней с самой ранней даты фиксации времени в dataset\n",
    "    # obj['app_date_counts'] = obj['app_date'].apply(lambda x: (x - obj['app_date'].min()).days)\n",
    "    obj = obj.drop(['app_date'], axis=1, inplace=True)"
   ]
  },
  {
   "cell_type": "code",
   "execution_count": 9,
   "id": "38d410c9",
   "metadata": {
    "execution": {
     "iopub.execute_input": "2021-07-22T23:15:33.567556Z",
     "iopub.status.busy": "2021-07-22T23:15:33.566705Z",
     "iopub.status.idle": "2021-07-22T23:15:33.721383Z",
     "shell.execute_reply": "2021-07-22T23:15:33.720630Z",
     "shell.execute_reply.started": "2021-07-22T23:08:51.413225Z"
    },
    "papermill": {
     "duration": 0.242568,
     "end_time": "2021-07-22T23:15:33.721591",
     "exception": false,
     "start_time": "2021-07-22T23:15:33.479023",
     "status": "completed"
    },
    "tags": []
   },
   "outputs": [
    {
     "name": "stdout",
     "output_type": "stream",
     "text": [
      "sex                   2\n",
      "car                   2\n",
      "car_type              2\n",
      "good_work             2\n",
      "foreign_passport      2\n",
      "default               2\n"
     ]
    }
   ],
   "source": [
    "# Проверим, какие данные из датасета являются бинарными\n",
    "\n",
    "for col in train.columns:\n",
    "    if train[col].nunique() <= 2:\n",
    "        print(col, \" \" * (20 - len(col)), train[col].nunique())"
   ]
  },
  {
   "cell_type": "code",
   "execution_count": 10,
   "id": "a3d97ea4",
   "metadata": {
    "execution": {
     "iopub.execute_input": "2021-07-22T23:15:33.878877Z",
     "iopub.status.busy": "2021-07-22T23:15:33.877861Z",
     "iopub.status.idle": "2021-07-22T23:15:33.988338Z",
     "shell.execute_reply": "2021-07-22T23:15:33.987555Z",
     "shell.execute_reply.started": "2021-07-22T23:08:51.567518Z"
    },
    "papermill": {
     "duration": 0.189655,
     "end_time": "2021-07-22T23:15:33.988539",
     "exception": false,
     "start_time": "2021-07-22T23:15:33.798884",
     "status": "completed"
    },
    "tags": []
   },
   "outputs": [
    {
     "name": "stdout",
     "output_type": "stream",
     "text": [
      "education             5\n",
      "home_address          3\n",
      "work_address          3\n",
      "sna                   4\n",
      "first_time            4\n",
      "app_month             4\n"
     ]
    }
   ],
   "source": [
    "# Проверим, какие данные из датасета являются категориальными\n",
    "\n",
    "for col in train.columns:\n",
    "    if 2 < train[col].nunique() <= 5:\n",
    "        print(col, \" \" * (20 - len(col)), train[col].nunique())"
   ]
  },
  {
   "cell_type": "code",
   "execution_count": 11,
   "id": "d2bbae29",
   "metadata": {
    "execution": {
     "iopub.execute_input": "2021-07-22T23:15:34.150533Z",
     "iopub.status.busy": "2021-07-22T23:15:34.149599Z",
     "iopub.status.idle": "2021-07-22T23:15:34.284351Z",
     "shell.execute_reply": "2021-07-22T23:15:34.284837Z",
     "shell.execute_reply.started": "2021-07-22T23:08:51.681389Z"
    },
    "papermill": {
     "duration": 0.220306,
     "end_time": "2021-07-22T23:15:34.285014",
     "exception": false,
     "start_time": "2021-07-22T23:15:34.064708",
     "status": "completed"
    },
    "tags": []
   },
   "outputs": [
    {
     "data": {
      "text/plain": [
       "(['sex', 'car', 'car_type', 'good_work', 'foreign_passport'],\n",
       " ['education',\n",
       "  'home_address',\n",
       "  'work_address',\n",
       "  'sna',\n",
       "  'first_time',\n",
       "  'app_month'],\n",
       " ['age',\n",
       "  'decline_app_cnt',\n",
       "  'score_bki',\n",
       "  'bki_request_cnt',\n",
       "  'region_rating',\n",
       "  'income'])"
      ]
     },
     "execution_count": 11,
     "metadata": {},
     "output_type": "execute_result"
    }
   ],
   "source": [
    "# Разделим предварительно наши данные на бинарные, категориальные и числовые. Делить будем на трейн сете, но это же разделение будет в будущем\n",
    "# работать и на тестовых данных\n",
    "def data_sort(data):\n",
    "    bin_cols = list()\n",
    "    cat_cols = list()\n",
    "    num_cols = list()\n",
    "\n",
    "    for col in data.drop(['client_id', 'default'], axis=1).columns:\n",
    "        if data[col].nunique() <= 2:\n",
    "            bin_cols.append(col)\n",
    "\n",
    "        elif 2 < data[col].nunique() <= 5:\n",
    "            cat_cols.append(col)\n",
    "\n",
    "        elif data[col].nunique() > 5 and data[col].dtype in [\"int64\", \"float64\"]:\n",
    "            num_cols.append(col)\n",
    "\n",
    "    return bin_cols, cat_cols, num_cols\n",
    "\n",
    "bin_cols, cat_cols, num_cols = data_sort(train)\n",
    "bin_cols, cat_cols, num_cols"
   ]
  },
  {
   "cell_type": "markdown",
   "id": "8ead81b5",
   "metadata": {
    "papermill": {
     "duration": 0.072852,
     "end_time": "2021-07-22T23:15:34.430345",
     "exception": false,
     "start_time": "2021-07-22T23:15:34.357493",
     "status": "completed"
    },
    "tags": []
   },
   "source": [
    "# Изучение числовых признаков "
   ]
  },
  {
   "cell_type": "markdown",
   "id": "e18e04bb",
   "metadata": {
    "papermill": {
     "duration": 0.072338,
     "end_time": "2021-07-22T23:15:34.575372",
     "exception": false,
     "start_time": "2021-07-22T23:15:34.503034",
     "status": "completed"
    },
    "tags": []
   },
   "source": [
    "## Посмотрим на корреляцию числовых признаков датасета с целевой переменной"
   ]
  },
  {
   "cell_type": "code",
   "execution_count": 12,
   "id": "01823813",
   "metadata": {
    "execution": {
     "iopub.execute_input": "2021-07-22T23:15:34.732998Z",
     "iopub.status.busy": "2021-07-22T23:15:34.732321Z",
     "iopub.status.idle": "2021-07-22T23:15:35.229096Z",
     "shell.execute_reply": "2021-07-22T23:15:35.228482Z",
     "shell.execute_reply.started": "2021-07-22T23:08:51.816260Z"
    },
    "papermill": {
     "duration": 0.581543,
     "end_time": "2021-07-22T23:15:35.229262",
     "exception": false,
     "start_time": "2021-07-22T23:15:34.647719",
     "status": "completed"
    },
    "tags": []
   },
   "outputs": [
    {
     "data": {
      "text/plain": [
       "<AxesSubplot:>"
      ]
     },
     "execution_count": 12,
     "metadata": {},
     "output_type": "execute_result"
    },
    {
     "data": {
      "image/png": "[encoded data removed]",
      "text/plain": [
       "<Figure size 1440x648 with 2 Axes>"
      ]
     },
     "metadata": {
      "needs_background": "light"
     },
     "output_type": "display_data"
    }
   ],
   "source": [
    "corrmat = train[num_cols + [\"default\"]].corr()\n",
    "\n",
    "f, ax = plt.subplots(figsize=(20,9))\n",
    "\n",
    "colormap =  sns.diverging_palette(20, 240, l=65, as_cmap=True)\n",
    "mask = np.zeros_like(corrmat)\n",
    "mask[np.triu_indices_from(mask)] = True\n",
    "sns.set(font_scale=1.3)\n",
    "sns.heatmap(corrmat, mask=mask, vmax=1, vmin=-1, annot=True, center=0, cmap=colormap)"
   ]
  },
  {
   "cell_type": "markdown",
   "id": "eae1cd3d",
   "metadata": {
    "papermill": {
     "duration": 0.074103,
     "end_time": "2021-07-22T23:15:35.377589",
     "exception": false,
     "start_time": "2021-07-22T23:15:35.303486",
     "status": "completed"
    },
    "tags": []
   },
   "source": [
    "Выводы из таблицы. Корреляция признаков с default очень слабая, наиболее высокая корреляция наблюдается у признаков score_bki, и decline_app_cnt - 0.18 и 0.11 cоответственно. Оставим все признаки, т.к. сильной корреляции (>0.8) здесь нет."
   ]
  },
  {
   "cell_type": "markdown",
   "id": "9703eca0",
   "metadata": {
    "papermill": {
     "duration": 0.074121,
     "end_time": "2021-07-22T23:15:35.526324",
     "exception": false,
     "start_time": "2021-07-22T23:15:35.452203",
     "status": "completed"
    },
    "tags": []
   },
   "source": [
    "## Изучаем распределения числовых признаков"
   ]
  },
  {
   "cell_type": "code",
   "execution_count": 13,
   "id": "a80ff5d8",
   "metadata": {
    "execution": {
     "iopub.execute_input": "2021-07-22T23:15:35.678397Z",
     "iopub.status.busy": "2021-07-22T23:15:35.677426Z",
     "iopub.status.idle": "2021-07-22T23:15:37.806584Z",
     "shell.execute_reply": "2021-07-22T23:15:37.807070Z",
     "shell.execute_reply.started": "2021-07-22T23:08:52.328711Z"
    },
    "papermill": {
     "duration": 2.206724,
     "end_time": "2021-07-22T23:15:37.807275",
     "exception": false,
     "start_time": "2021-07-22T23:15:35.600551",
     "status": "completed"
    },
    "tags": []
   },
   "outputs": [
    {
     "data": {
      "image/png": "[encoded data removed]",
      "text/plain": [
       "<Figure size 432x288 with 1 Axes>"
      ]
     },
     "metadata": {},
     "output_type": "display_data"
    },
    {
     "data": {
      "image/png": "[encoded data removed]",
      "text/plain": [
       "<Figure size 432x288 with 1 Axes>"
      ]
     },
     "metadata": {},
     "output_type": "display_data"
    },
    {
     "data": {
      "image/png": "[encoded data removed]",
      "text/plain": [
       "<Figure size 432x288 with 1 Axes>"
      ]
     },
     "metadata": {},
     "output_type": "display_data"
    },
    {
     "data": {
      "image/png": "[encoded data removed]",
      "text/plain": [
       "<Figure size 432x288 with 1 Axes>"
      ]
     },
     "metadata": {},
     "output_type": "display_data"
    },
    {
     "data": {
      "image/png": "[encoded data removed]",
      "text/plain": [
       "<Figure size 432x288 with 1 Axes>"
      ]
     },
     "metadata": {},
     "output_type": "display_data"
    },
    {
     "data": {
      "image/png": "[encoded data removed]",
      "text/plain": [
       "<Figure size 432x288 with 1 Axes>"
      ]
     },
     "metadata": {},
     "output_type": "display_data"
    }
   ],
   "source": [
    "for col in num_cols:\n",
    "    sns.histplot(train[col], cbar=True, bins = 50)\n",
    "    plt.show()\n",
    "    "
   ]
  },
  {
   "cell_type": "markdown",
   "id": "16a1bfe2",
   "metadata": {
    "papermill": {
     "duration": 0.08037,
     "end_time": "2021-07-22T23:15:37.971333",
     "exception": false,
     "start_time": "2021-07-22T23:15:37.890963",
     "status": "completed"
    },
    "tags": []
   },
   "source": [
    "Графикам значения score_bki   распределены более менее равномерно, по этому оставим как есть. Признаки age, income,  возможно должны быть прологарифмированы."
   ]
  },
  {
   "cell_type": "code",
   "execution_count": 14,
   "id": "63bf9faa",
   "metadata": {
    "execution": {
     "iopub.execute_input": "2021-07-22T23:15:38.143492Z",
     "iopub.status.busy": "2021-07-22T23:15:38.142789Z",
     "iopub.status.idle": "2021-07-22T23:15:38.182516Z",
     "shell.execute_reply": "2021-07-22T23:15:38.181873Z",
     "shell.execute_reply.started": "2021-07-22T23:08:54.462551Z"
    },
    "papermill": {
     "duration": 0.130807,
     "end_time": "2021-07-22T23:15:38.182687",
     "exception": false,
     "start_time": "2021-07-22T23:15:38.051880",
     "status": "completed"
    },
    "tags": []
   },
   "outputs": [
    {
     "data": {
      "text/html": [
       "<div>\n",
       "<style scoped>\n",
       "    .dataframe tbody tr th:only-of-type {\n",
       "        vertical-align: middle;\n",
       "    }\n",
       "\n",
       "    .dataframe tbody tr th {\n",
       "        vertical-align: top;\n",
       "    }\n",
       "\n",
       "    .dataframe thead th {\n",
       "        text-align: right;\n",
       "    }\n",
       "</style>\n",
       "<table border=\"1\" class=\"dataframe\">\n",
       "  <thead>\n",
       "    <tr style=\"text-align: right;\">\n",
       "      <th></th>\n",
       "      <th>age</th>\n",
       "      <th>decline_app_cnt</th>\n",
       "      <th>score_bki</th>\n",
       "      <th>bki_request_cnt</th>\n",
       "      <th>region_rating</th>\n",
       "      <th>income</th>\n",
       "    </tr>\n",
       "  </thead>\n",
       "  <tbody>\n",
       "    <tr>\n",
       "      <th>count</th>\n",
       "      <td>73799.000000</td>\n",
       "      <td>73799.000000</td>\n",
       "      <td>73799.000000</td>\n",
       "      <td>73799.000000</td>\n",
       "      <td>73799.000000</td>\n",
       "      <td>73799.000000</td>\n",
       "    </tr>\n",
       "    <tr>\n",
       "      <th>mean</th>\n",
       "      <td>39.280641</td>\n",
       "      <td>0.275749</td>\n",
       "      <td>-1.904724</td>\n",
       "      <td>2.000339</td>\n",
       "      <td>56.725701</td>\n",
       "      <td>41099.775417</td>\n",
       "    </tr>\n",
       "    <tr>\n",
       "      <th>std</th>\n",
       "      <td>11.520378</td>\n",
       "      <td>0.804272</td>\n",
       "      <td>0.498231</td>\n",
       "      <td>2.252073</td>\n",
       "      <td>13.055717</td>\n",
       "      <td>46166.322400</td>\n",
       "    </tr>\n",
       "    <tr>\n",
       "      <th>min</th>\n",
       "      <td>21.000000</td>\n",
       "      <td>0.000000</td>\n",
       "      <td>-3.624586</td>\n",
       "      <td>0.000000</td>\n",
       "      <td>20.000000</td>\n",
       "      <td>1000.000000</td>\n",
       "    </tr>\n",
       "    <tr>\n",
       "      <th>25%</th>\n",
       "      <td>30.000000</td>\n",
       "      <td>0.000000</td>\n",
       "      <td>-2.259534</td>\n",
       "      <td>0.000000</td>\n",
       "      <td>50.000000</td>\n",
       "      <td>20000.000000</td>\n",
       "    </tr>\n",
       "    <tr>\n",
       "      <th>50%</th>\n",
       "      <td>37.000000</td>\n",
       "      <td>0.000000</td>\n",
       "      <td>-1.920823</td>\n",
       "      <td>1.000000</td>\n",
       "      <td>50.000000</td>\n",
       "      <td>30000.000000</td>\n",
       "    </tr>\n",
       "    <tr>\n",
       "      <th>75%</th>\n",
       "      <td>48.000000</td>\n",
       "      <td>0.000000</td>\n",
       "      <td>-1.569831</td>\n",
       "      <td>3.000000</td>\n",
       "      <td>60.000000</td>\n",
       "      <td>48000.000000</td>\n",
       "    </tr>\n",
       "    <tr>\n",
       "      <th>max</th>\n",
       "      <td>72.000000</td>\n",
       "      <td>33.000000</td>\n",
       "      <td>0.199773</td>\n",
       "      <td>53.000000</td>\n",
       "      <td>80.000000</td>\n",
       "      <td>1000000.000000</td>\n",
       "    </tr>\n",
       "  </tbody>\n",
       "</table>\n",
       "</div>"
      ],
      "text/plain": [
       "                age  decline_app_cnt     score_bki  bki_request_cnt  \\\n",
       "count  73799.000000     73799.000000  73799.000000     73799.000000   \n",
       "mean      39.280641         0.275749     -1.904724         2.000339   \n",
       "std       11.520378         0.804272      0.498231         2.252073   \n",
       "min       21.000000         0.000000     -3.624586         0.000000   \n",
       "25%       30.000000         0.000000     -2.259534         0.000000   \n",
       "50%       37.000000         0.000000     -1.920823         1.000000   \n",
       "75%       48.000000         0.000000     -1.569831         3.000000   \n",
       "max       72.000000        33.000000      0.199773        53.000000   \n",
       "\n",
       "       region_rating          income  \n",
       "count   73799.000000    73799.000000  \n",
       "mean       56.725701    41099.775417  \n",
       "std        13.055717    46166.322400  \n",
       "min        20.000000     1000.000000  \n",
       "25%        50.000000    20000.000000  \n",
       "50%        50.000000    30000.000000  \n",
       "75%        60.000000    48000.000000  \n",
       "max        80.000000  1000000.000000  "
      ]
     },
     "execution_count": 14,
     "metadata": {},
     "output_type": "execute_result"
    }
   ],
   "source": [
    "train[num_cols].describe()"
   ]
  },
  {
   "cell_type": "markdown",
   "id": "74aa910d",
   "metadata": {
    "papermill": {
     "duration": 0.079955,
     "end_time": "2021-07-22T23:15:38.342940",
     "exception": false,
     "start_time": "2021-07-22T23:15:38.262985",
     "status": "completed"
    },
    "tags": []
   },
   "source": [
    "## Изучаем связь числовых признаков с целевой"
   ]
  },
  {
   "cell_type": "code",
   "execution_count": 15,
   "id": "f648cf17",
   "metadata": {
    "execution": {
     "iopub.execute_input": "2021-07-22T23:15:38.534678Z",
     "iopub.status.busy": "2021-07-22T23:15:38.533986Z",
     "iopub.status.idle": "2021-07-22T23:15:39.509794Z",
     "shell.execute_reply": "2021-07-22T23:15:39.509289Z",
     "shell.execute_reply.started": "2021-07-22T23:08:54.515772Z"
    },
    "papermill": {
     "duration": 1.086289,
     "end_time": "2021-07-22T23:15:39.509932",
     "exception": false,
     "start_time": "2021-07-22T23:15:38.423643",
     "status": "completed"
    },
    "tags": []
   },
   "outputs": [
    {
     "data": {
      "image/png": "[encoded data removed]",
      "text/plain": [
       "<Figure size 1008x288 with 1 Axes>"
      ]
     },
     "metadata": {},
     "output_type": "display_data"
    },
    {
     "data": {
      "image/png": "[encoded data removed]",
      "text/plain": [
       "<Figure size 1008x288 with 1 Axes>"
      ]
     },
     "metadata": {},
     "output_type": "display_data"
    },
    {
     "data": {
      "image/png": "[encoded data removed]",
      "text/plain": [
       "<Figure size 1008x288 with 1 Axes>"
      ]
     },
     "metadata": {},
     "output_type": "display_data"
    },
    {
     "data": {
      "image/png": "[encoded data removed]",
      "text/plain": [
       "<Figure size 1008x288 with 1 Axes>"
      ]
     },
     "metadata": {},
     "output_type": "display_data"
    },
    {
     "data": {
      "image/png": "[encoded data removed]",
      "text/plain": [
       "<Figure size 1008x288 with 1 Axes>"
      ]
     },
     "metadata": {},
     "output_type": "display_data"
    },
    {
     "data": {
      "image/png": "[encoded data removed]",
      "text/plain": [
       "<Figure size 1008x288 with 1 Axes>"
      ]
     },
     "metadata": {},
     "output_type": "display_data"
    }
   ],
   "source": [
    "def boxplot(col):\n",
    "    fig, axes = plt.subplots(figsize = (14, 4))\n",
    "    sns.boxplot(x='default', y=col, data=train, ax=axes)\n",
    "    axes.set_title('Boxplot for ' + col)\n",
    "    plt.show()\n",
    "for col in num_cols:\n",
    "    boxplot(col)"
   ]
  },
  {
   "cell_type": "markdown",
   "id": "667d17e5",
   "metadata": {
    "papermill": {
     "duration": 0.085408,
     "end_time": "2021-07-22T23:15:39.681385",
     "exception": false,
     "start_time": "2021-07-22T23:15:39.595977",
     "status": "completed"
    },
    "tags": []
   },
   "source": [
    "Здесь видим, что старшие люди не допускают дефолт. Люди, которые допускают дефолт, имеют более высокий score_bki. Рейтинг региона влияет на значение дефолт. bki_request_cnt выше у людей, не допускающий дефолт. В среднем люди, которые не делают дефолта, имеют более высокий доход."
   ]
  },
  {
   "cell_type": "code",
   "execution_count": 16,
   "id": "5c09a74e",
   "metadata": {
    "execution": {
     "iopub.execute_input": "2021-07-22T23:15:39.863102Z",
     "iopub.status.busy": "2021-07-22T23:15:39.862290Z",
     "iopub.status.idle": "2021-07-22T23:15:39.889237Z",
     "shell.execute_reply": "2021-07-22T23:15:39.888694Z",
     "shell.execute_reply.started": "2021-07-22T23:08:55.541715Z"
    },
    "papermill": {
     "duration": 0.122125,
     "end_time": "2021-07-22T23:15:39.889389",
     "exception": false,
     "start_time": "2021-07-22T23:15:39.767264",
     "status": "completed"
    },
    "tags": []
   },
   "outputs": [
    {
     "data": {
      "text/plain": [
       "age                  46.166168\n",
       "decline_app_cnt     966.206975\n",
       "score_bki          2341.599450\n",
       "bki_request_cnt     454.555786\n",
       "region_rating       589.678381\n",
       "income              116.798014\n",
       "dtype: float64"
      ]
     },
     "execution_count": 16,
     "metadata": {},
     "output_type": "execute_result"
    }
   ],
   "source": [
    "# Посмотрим на значимость числовых данных для нашей целевой переменной\n",
    "num_weights = pd.Series(f_classif(train[num_cols], train['default'])[0], index=num_cols)\n",
    "num_weights"
   ]
  },
  {
   "cell_type": "markdown",
   "id": "d734731b",
   "metadata": {
    "papermill": {
     "duration": 0.086899,
     "end_time": "2021-07-22T23:15:40.065427",
     "exception": false,
     "start_time": "2021-07-22T23:15:39.978528",
     "status": "completed"
    },
    "tags": []
   },
   "source": [
    "Как видно из данных наиболее значимым для целевой переменной 'default' является score_bki"
   ]
  },
  {
   "cell_type": "markdown",
   "id": "9fd9d910",
   "metadata": {
    "papermill": {
     "duration": 0.085533,
     "end_time": "2021-07-22T23:15:40.236602",
     "exception": false,
     "start_time": "2021-07-22T23:15:40.151069",
     "status": "completed"
    },
    "tags": []
   },
   "source": [
    "### Изучаем выбросы для числовых признаков"
   ]
  },
  {
   "cell_type": "code",
   "execution_count": 17,
   "id": "ac69a298",
   "metadata": {
    "execution": {
     "iopub.execute_input": "2021-07-22T23:15:40.416638Z",
     "iopub.status.busy": "2021-07-22T23:15:40.415923Z",
     "iopub.status.idle": "2021-07-22T23:15:40.475695Z",
     "shell.execute_reply": "2021-07-22T23:15:40.476604Z",
     "shell.execute_reply.started": "2021-07-22T23:08:55.578614Z"
    },
    "papermill": {
     "duration": 0.154309,
     "end_time": "2021-07-22T23:15:40.476879",
     "exception": false,
     "start_time": "2021-07-22T23:15:40.322570",
     "status": "completed"
    },
    "tags": []
   },
   "outputs": [
    {
     "name": "stdout",
     "output_type": "stream",
     "text": [
      "Column:  age\n",
      "Максимальное значение в данных: 72\n",
      "Минимальное значение в данных: 21\n",
      "25%: 30.0, 75%: 48.0, IQR: 18.0,  Borderline: [3.0, 75.0].\n",
      "\n",
      "Column:  decline_app_cnt\n",
      "Максимальное значение в данных: 33\n",
      "Минимальное значение в данных: 0\n",
      "25%: 0.0, 75%: 0.0, IQR: 0.0,  Borderline: [0.0, 0.0].\n",
      "\n",
      "Column:  score_bki\n",
      "Максимальное значение в данных: 0.19977285\n",
      "Минимальное значение в данных: -3.62458632\n",
      "25%: -2.259533835, 75%: -1.56983126, IQR: 0.6897025750000001,  Borderline: [-3.2940876975, -0.5352773974999998].\n",
      "\n",
      "Column:  bki_request_cnt\n",
      "Максимальное значение в данных: 53\n",
      "Минимальное значение в данных: 0\n",
      "25%: 0.0, 75%: 3.0, IQR: 3.0,  Borderline: [-4.5, 7.5].\n",
      "\n",
      "Column:  region_rating\n",
      "Максимальное значение в данных: 80\n",
      "Минимальное значение в данных: 20\n",
      "25%: 50.0, 75%: 60.0, IQR: 10.0,  Borderline: [35.0, 75.0].\n",
      "\n",
      "Column:  income\n",
      "Максимальное значение в данных: 1000000\n",
      "Минимальное значение в данных: 1000\n",
      "25%: 20000.0, 75%: 48000.0, IQR: 28000.0,  Borderline: [-22000.0, 90000.0].\n",
      "\n"
     ]
    }
   ],
   "source": [
    "for col in num_cols:\n",
    "    median = train[col].median()\n",
    "    IQR = train[col].quantile(0.75) - train[col].quantile(0.25)\n",
    "    perc25 = train[col].quantile(0.25)\n",
    "    perc75 = train[col].quantile(0.75)\n",
    "    \n",
    "    print(\"Column: \", col)\n",
    "    print(\"Максимальное значение в данных:\", train[col].max())\n",
    "    print(\"Минимальное значение в данных:\", train[col].min())\n",
    "    print('25%: {},'.format(perc25), '75%: {},'.format(perc75),\n",
    "          \"IQR: {}, \".format(IQR), \"Borderline: [{f}, {l}].\".format(f=perc25 - 1.5*IQR, l=perc75 + 1.5*IQR))\n",
    "    print()"
   ]
  },
  {
   "cell_type": "markdown",
   "id": "e4ca0968",
   "metadata": {
    "papermill": {
     "duration": 0.087574,
     "end_time": "2021-07-22T23:15:40.652511",
     "exception": false,
     "start_time": "2021-07-22T23:15:40.564937",
     "status": "completed"
    },
    "tags": []
   },
   "source": [
    "Больших  выбросов нет, поэтому удалять выбросов не будем."
   ]
  },
  {
   "cell_type": "code",
   "execution_count": 18,
   "id": "7e575602",
   "metadata": {
    "execution": {
     "iopub.execute_input": "2021-07-22T23:15:40.832687Z",
     "iopub.status.busy": "2021-07-22T23:15:40.831694Z",
     "iopub.status.idle": "2021-07-22T23:15:40.838716Z",
     "shell.execute_reply": "2021-07-22T23:15:40.838218Z",
     "shell.execute_reply.started": "2021-07-22T23:08:55.647386Z"
    },
    "papermill": {
     "duration": 0.099189,
     "end_time": "2021-07-22T23:15:40.838854",
     "exception": false,
     "start_time": "2021-07-22T23:15:40.739665",
     "status": "completed"
    },
    "tags": []
   },
   "outputs": [
    {
     "data": {
      "text/plain": [
       "0    64427\n",
       "1     9372\n",
       "Name: default, dtype: int64"
      ]
     },
     "execution_count": 18,
     "metadata": {},
     "output_type": "execute_result"
    }
   ],
   "source": [
    "# Определим соотношении значения целевого признака (default)\n",
    "train['default'].value_counts()"
   ]
  },
  {
   "cell_type": "markdown",
   "id": "a52fead0",
   "metadata": {
    "papermill": {
     "duration": 0.08818,
     "end_time": "2021-07-22T23:15:41.014074",
     "exception": false,
     "start_time": "2021-07-22T23:15:40.925894",
     "status": "completed"
    },
    "tags": []
   },
   "source": [
    "Соотношение default для 0 и 1 слишком большое (почти 6,9 раз). Возможно требуется рассмотреть вариант баланировки датасет. "
   ]
  },
  {
   "cell_type": "markdown",
   "id": "be3f2b58",
   "metadata": {
    "papermill": {
     "duration": 0.088372,
     "end_time": "2021-07-22T23:15:41.189271",
     "exception": false,
     "start_time": "2021-07-22T23:15:41.100899",
     "status": "completed"
    },
    "tags": []
   },
   "source": [
    "# Изучение категориальных признаков"
   ]
  },
  {
   "cell_type": "code",
   "execution_count": 19,
   "id": "83818dd9",
   "metadata": {
    "execution": {
     "iopub.execute_input": "2021-07-22T23:15:41.368646Z",
     "iopub.status.busy": "2021-07-22T23:15:41.367913Z",
     "iopub.status.idle": "2021-07-22T23:15:41.371033Z",
     "shell.execute_reply": "2021-07-22T23:15:41.371534Z",
     "shell.execute_reply.started": "2021-07-22T23:08:55.657545Z"
    },
    "papermill": {
     "duration": 0.095636,
     "end_time": "2021-07-22T23:15:41.371694",
     "exception": false,
     "start_time": "2021-07-22T23:15:41.276058",
     "status": "completed"
    },
    "tags": []
   },
   "outputs": [
    {
     "data": {
      "text/plain": [
       "['education', 'home_address', 'work_address', 'sna', 'first_time', 'app_month']"
      ]
     },
     "execution_count": 19,
     "metadata": {},
     "output_type": "execute_result"
    }
   ],
   "source": [
    "cat_cols"
   ]
  },
  {
   "cell_type": "markdown",
   "id": "1662d61e",
   "metadata": {
    "papermill": {
     "duration": 0.087442,
     "end_time": "2021-07-22T23:15:41.546208",
     "exception": false,
     "start_time": "2021-07-22T23:15:41.458766",
     "status": "completed"
    },
    "tags": []
   },
   "source": [
    "## Распределение категориальных признаков"
   ]
  },
  {
   "cell_type": "code",
   "execution_count": 20,
   "id": "818e3461",
   "metadata": {
    "execution": {
     "iopub.execute_input": "2021-07-22T23:15:41.742192Z",
     "iopub.status.busy": "2021-07-22T23:15:41.734477Z",
     "iopub.status.idle": "2021-07-22T23:15:41.748708Z",
     "shell.execute_reply": "2021-07-22T23:15:41.748160Z",
     "shell.execute_reply.started": "2021-07-22T23:08:55.667225Z"
    },
    "papermill": {
     "duration": 0.114613,
     "end_time": "2021-07-22T23:15:41.748841",
     "exception": false,
     "start_time": "2021-07-22T23:15:41.634228",
     "status": "completed"
    },
    "tags": []
   },
   "outputs": [
    {
     "data": {
      "text/plain": [
       "SCH    38860\n",
       "GRD    23365\n",
       "UGR     9816\n",
       "PGR     1257\n",
       "ACD      194\n",
       "Name: education, dtype: int64"
      ]
     },
     "execution_count": 20,
     "metadata": {},
     "output_type": "execute_result"
    }
   ],
   "source": [
    "train['education'].value_counts()"
   ]
  },
  {
   "cell_type": "code",
   "execution_count": 21,
   "id": "6679f845",
   "metadata": {
    "execution": {
     "iopub.execute_input": "2021-07-22T23:15:41.933338Z",
     "iopub.status.busy": "2021-07-22T23:15:41.932721Z",
     "iopub.status.idle": "2021-07-22T23:15:41.935464Z",
     "shell.execute_reply": "2021-07-22T23:15:41.936035Z",
     "shell.execute_reply.started": "2021-07-22T23:08:55.695921Z"
    },
    "papermill": {
     "duration": 0.098823,
     "end_time": "2021-07-22T23:15:41.936210",
     "exception": false,
     "start_time": "2021-07-22T23:15:41.837387",
     "status": "completed"
    },
    "tags": []
   },
   "outputs": [
    {
     "data": {
      "text/plain": [
       "2    39956\n",
       "1    32585\n",
       "3     1258\n",
       "Name: home_address, dtype: int64"
      ]
     },
     "execution_count": 21,
     "metadata": {},
     "output_type": "execute_result"
    }
   ],
   "source": [
    "train['home_address'].value_counts()"
   ]
  },
  {
   "cell_type": "code",
   "execution_count": 22,
   "id": "d6c2bdc3",
   "metadata": {
    "execution": {
     "iopub.execute_input": "2021-07-22T23:15:42.116624Z",
     "iopub.status.busy": "2021-07-22T23:15:42.116006Z",
     "iopub.status.idle": "2021-07-22T23:15:42.123185Z",
     "shell.execute_reply": "2021-07-22T23:15:42.123674Z",
     "shell.execute_reply.started": "2021-07-22T23:08:55.707142Z"
    },
    "papermill": {
     "duration": 0.097699,
     "end_time": "2021-07-22T23:15:42.123850",
     "exception": false,
     "start_time": "2021-07-22T23:15:42.026151",
     "status": "completed"
    },
    "tags": []
   },
   "outputs": [
    {
     "data": {
      "text/plain": [
       "3    44959\n",
       "2    20506\n",
       "1     8334\n",
       "Name: work_address, dtype: int64"
      ]
     },
     "execution_count": 22,
     "metadata": {},
     "output_type": "execute_result"
    }
   ],
   "source": [
    "train['work_address'].value_counts()"
   ]
  },
  {
   "cell_type": "code",
   "execution_count": 23,
   "id": "983ebe83",
   "metadata": {
    "execution": {
     "iopub.execute_input": "2021-07-22T23:15:42.306185Z",
     "iopub.status.busy": "2021-07-22T23:15:42.305541Z",
     "iopub.status.idle": "2021-07-22T23:15:42.313262Z",
     "shell.execute_reply": "2021-07-22T23:15:42.312740Z",
     "shell.execute_reply.started": "2021-07-22T23:08:55.719412Z"
    },
    "papermill": {
     "duration": 0.100355,
     "end_time": "2021-07-22T23:15:42.313409",
     "exception": false,
     "start_time": "2021-07-22T23:15:42.213054",
     "status": "completed"
    },
    "tags": []
   },
   "outputs": [
    {
     "data": {
      "text/plain": [
       "1    47301\n",
       "4    11749\n",
       "2    10626\n",
       "3     4123\n",
       "Name: sna, dtype: int64"
      ]
     },
     "execution_count": 23,
     "metadata": {},
     "output_type": "execute_result"
    }
   ],
   "source": [
    "train['sna'].value_counts()"
   ]
  },
  {
   "cell_type": "code",
   "execution_count": 24,
   "id": "540af3c3",
   "metadata": {
    "execution": {
     "iopub.execute_input": "2021-07-22T23:15:42.495021Z",
     "iopub.status.busy": "2021-07-22T23:15:42.494346Z",
     "iopub.status.idle": "2021-07-22T23:15:42.500685Z",
     "shell.execute_reply": "2021-07-22T23:15:42.500173Z",
     "shell.execute_reply.started": "2021-07-22T23:08:55.733255Z"
    },
    "papermill": {
     "duration": 0.098479,
     "end_time": "2021-07-22T23:15:42.500817",
     "exception": false,
     "start_time": "2021-07-22T23:15:42.402338",
     "status": "completed"
    },
    "tags": []
   },
   "outputs": [
    {
     "data": {
      "text/plain": [
       "3    31255\n",
       "4    18737\n",
       "1    12239\n",
       "2    11568\n",
       "Name: first_time, dtype: int64"
      ]
     },
     "execution_count": 24,
     "metadata": {},
     "output_type": "execute_result"
    }
   ],
   "source": [
    "train['first_time'].value_counts()"
   ]
  },
  {
   "cell_type": "markdown",
   "id": "60aedeff",
   "metadata": {
    "papermill": {
     "duration": 0.088199,
     "end_time": "2021-07-22T23:15:42.678132",
     "exception": false,
     "start_time": "2021-07-22T23:15:42.589933",
     "status": "completed"
    },
    "tags": []
   },
   "source": [
    "## Связь категориальных признаков с целевым признаком"
   ]
  },
  {
   "cell_type": "code",
   "execution_count": 25,
   "id": "44f233ee",
   "metadata": {
    "execution": {
     "iopub.execute_input": "2021-07-22T23:15:42.861734Z",
     "iopub.status.busy": "2021-07-22T23:15:42.861071Z",
     "iopub.status.idle": "2021-07-22T23:15:49.152486Z",
     "shell.execute_reply": "2021-07-22T23:15:49.151967Z",
     "shell.execute_reply.started": "2021-07-22T23:08:55.744640Z"
    },
    "papermill": {
     "duration": 6.38587,
     "end_time": "2021-07-22T23:15:49.152637",
     "exception": false,
     "start_time": "2021-07-22T23:15:42.766767",
     "status": "completed"
    },
    "tags": []
   },
   "outputs": [
    {
     "data": {
      "image/png": "[encoded data removed]",
      "text/plain": [
       "<Figure size 432x288 with 1 Axes>"
      ]
     },
     "metadata": {},
     "output_type": "display_data"
    },
    {
     "data": {
      "image/png": "[encoded data removed]",
      "text/plain": [
       "<Figure size 432x288 with 1 Axes>"
      ]
     },
     "metadata": {},
     "output_type": "display_data"
    },
    {
     "data": {
      "image/png": "[encoded data removed]",
      "text/plain": [
       "<Figure size 432x288 with 1 Axes>"
      ]
     },
     "metadata": {},
     "output_type": "display_data"
    },
    {
     "data": {
      "image/png": "[encoded data removed]",
      "text/plain": [
       "<Figure size 432x288 with 1 Axes>"
      ]
     },
     "metadata": {},
     "output_type": "display_data"
    },
    {
     "data": {
      "image/png": "[encoded data removed]",
      "text/plain": [
       "<Figure size 432x288 with 1 Axes>"
      ]
     },
     "metadata": {},
     "output_type": "display_data"
    },
    {
     "data": {
      "image/png": "[encoded data removed]",
      "text/plain": [
       "<Figure size 432x288 with 1 Axes>"
      ]
     },
     "metadata": {},
     "output_type": "display_data"
    }
   ],
   "source": [
    "for col in cat_cols:\n",
    "    sns.barplot(x=col, y=\"default\", data=train[[col, 'default']])\n",
    "    plt.show()"
   ]
  },
  {
   "cell_type": "markdown",
   "id": "507b9f41",
   "metadata": {
    "papermill": {
     "duration": 0.095081,
     "end_time": "2021-07-22T23:15:49.342440",
     "exception": false,
     "start_time": "2021-07-22T23:15:49.247359",
     "status": "completed"
    },
    "tags": []
   },
   "source": [
    "Категориальные признаки влияют на целевой по разному. Их преобразуем к dummy признаки."
   ]
  },
  {
   "cell_type": "markdown",
   "id": "057aaa2b",
   "metadata": {
    "papermill": {
     "duration": 0.094075,
     "end_time": "2021-07-22T23:15:49.531763",
     "exception": false,
     "start_time": "2021-07-22T23:15:49.437688",
     "status": "completed"
    },
    "tags": []
   },
   "source": [
    "# Изучение бинарных признаков"
   ]
  },
  {
   "cell_type": "markdown",
   "id": "0e2d3f14",
   "metadata": {
    "papermill": {
     "duration": 0.0955,
     "end_time": "2021-07-22T23:15:49.722235",
     "exception": false,
     "start_time": "2021-07-22T23:15:49.626735",
     "status": "completed"
    },
    "tags": []
   },
   "source": [
    "## Посмотрим соотношение бинарных признаков к целевой переменной"
   ]
  },
  {
   "cell_type": "code",
   "execution_count": 26,
   "id": "73fc6f2d",
   "metadata": {
    "execution": {
     "iopub.execute_input": "2021-07-22T23:15:49.943419Z",
     "iopub.status.busy": "2021-07-22T23:15:49.942616Z",
     "iopub.status.idle": "2021-07-22T23:15:55.233332Z",
     "shell.execute_reply": "2021-07-22T23:15:55.233816Z",
     "shell.execute_reply.started": "2021-07-22T23:09:02.037415Z"
    },
    "papermill": {
     "duration": 5.415956,
     "end_time": "2021-07-22T23:15:55.233989",
     "exception": false,
     "start_time": "2021-07-22T23:15:49.818033",
     "status": "completed"
    },
    "tags": []
   },
   "outputs": [
    {
     "data": {
      "image/png": "[encoded data removed]",
      "text/plain": [
       "<Figure size 2520x720 with 5 Axes>"
      ]
     },
     "metadata": {},
     "output_type": "display_data"
    }
   ],
   "source": [
    "def features_relation(data_frame, columns):\n",
    "    sns.set_style('darkgrid')\n",
    "    \n",
    "    fig = plt.figure(figsize=(35,10))\n",
    "       \n",
    "    for it, value in enumerate(columns):\n",
    "        plt.subplot(1,len(columns),it+1)\n",
    "        sns.barplot(x=value, y=\"default\", data=data_frame[[value, 'default']])\n",
    "        fig.tight_layout(pad=1.0)\n",
    "        sns.set_context('talk',font_scale=1.1)\n",
    "    \n",
    "    fig.subplots_adjust(top=0.8)\n",
    "\n",
    "features_relation(train, bin_cols)"
   ]
  },
  {
   "cell_type": "markdown",
   "id": "29d738f4",
   "metadata": {
    "papermill": {
     "duration": 0.096124,
     "end_time": "2021-07-22T23:15:55.428831",
     "exception": false,
     "start_time": "2021-07-22T23:15:55.332707",
     "status": "completed"
    },
    "tags": []
   },
   "source": [
    "Как видим из соотношения бинарных признаков к целевой переменной основную долю людей не возвращающих заём являются мужчины, люди без автомобиля, и люди не имеющие хорошей работы и загранпаспорта."
   ]
  },
  {
   "cell_type": "markdown",
   "id": "8eaff79a",
   "metadata": {
    "papermill": {
     "duration": 0.096133,
     "end_time": "2021-07-22T23:15:55.621362",
     "exception": false,
     "start_time": "2021-07-22T23:15:55.525229",
     "status": "completed"
    },
    "tags": []
   },
   "source": [
    "# Feature Engineering"
   ]
  },
  {
   "cell_type": "code",
   "execution_count": 27,
   "id": "d09ba228",
   "metadata": {
    "execution": {
     "iopub.execute_input": "2021-07-22T23:15:55.816084Z",
     "iopub.status.busy": "2021-07-22T23:15:55.815471Z",
     "iopub.status.idle": "2021-07-22T23:15:55.860578Z",
     "shell.execute_reply": "2021-07-22T23:15:55.861182Z",
     "shell.execute_reply.started": "2021-07-22T23:09:07.418167Z"
    },
    "papermill": {
     "duration": 0.144233,
     "end_time": "2021-07-22T23:15:55.861390",
     "exception": false,
     "start_time": "2021-07-22T23:15:55.717157",
     "status": "completed"
    },
    "tags": []
   },
   "outputs": [],
   "source": [
    "# Объединим train и test, создадим единную базу data для того, чтобы совместно обработать признаков \n",
    "# и для ввода новых признаков и их преобразования в исходных датасетах\n",
    "\n",
    "train['default_is'] = 1   \n",
    "test['default_is'] = 0    \n",
    "test['default'] = -1  \n",
    "data = train.append(test, sort=False).reset_index(drop=True)"
   ]
  },
  {
   "cell_type": "code",
   "execution_count": 28,
   "id": "f5259c98",
   "metadata": {
    "execution": {
     "iopub.execute_input": "2021-07-22T23:15:56.058946Z",
     "iopub.status.busy": "2021-07-22T23:15:56.058357Z",
     "iopub.status.idle": "2021-07-22T23:15:56.066827Z",
     "shell.execute_reply": "2021-07-22T23:15:56.067411Z",
     "shell.execute_reply.started": "2021-07-22T23:09:07.468308Z"
    },
    "papermill": {
     "duration": 0.109299,
     "end_time": "2021-07-22T23:15:56.067578",
     "exception": false,
     "start_time": "2021-07-22T23:15:55.958279",
     "status": "completed"
    },
    "tags": []
   },
   "outputs": [],
   "source": [
    "# Для обработки снимаем копию data\n",
    "df = data.copy()"
   ]
  },
  {
   "cell_type": "code",
   "execution_count": 29,
   "id": "a57153ea",
   "metadata": {
    "execution": {
     "iopub.execute_input": "2021-07-22T23:15:56.264682Z",
     "iopub.status.busy": "2021-07-22T23:15:56.264074Z",
     "iopub.status.idle": "2021-07-22T23:15:56.290477Z",
     "shell.execute_reply": "2021-07-22T23:15:56.289865Z",
     "shell.execute_reply.started": "2021-07-22T23:09:07.479140Z"
    },
    "papermill": {
     "duration": 0.125247,
     "end_time": "2021-07-22T23:15:56.290629",
     "exception": false,
     "start_time": "2021-07-22T23:15:56.165382",
     "status": "completed"
    },
    "tags": []
   },
   "outputs": [],
   "source": [
    "# Заполняем пропуски в колонке education\n",
    "df.education.fillna(\"SCH\", inplace=True)\n",
    "\n",
    "# Логарифмируем доход и возраст    \n",
    "df['income']= np.log(df['income'])\n",
    "# df['age']= np.log(df['age'])  # Включение  признака ухудшает показатель roc_auc_score"
   ]
  },
  {
   "cell_type": "code",
   "execution_count": 30,
   "id": "303408e6",
   "metadata": {
    "execution": {
     "iopub.execute_input": "2021-07-22T23:15:56.490330Z",
     "iopub.status.busy": "2021-07-22T23:15:56.489471Z",
     "iopub.status.idle": "2021-07-22T23:15:56.492560Z",
     "shell.execute_reply": "2021-07-22T23:15:56.491956Z",
     "shell.execute_reply.started": "2021-07-22T23:09:07.509715Z"
    },
    "papermill": {
     "duration": 0.104947,
     "end_time": "2021-07-22T23:15:56.492714",
     "exception": false,
     "start_time": "2021-07-22T23:15:56.387767",
     "status": "completed"
    },
    "tags": []
   },
   "outputs": [],
   "source": [
    "# mean income by age\n",
    "# mean_income = df.groupby('age')['income'].mean().to_dict()\n",
    "# df['mean_income_age'] = df['age'].map(mean_income)\n",
    "\n",
    "# Max income by age\n",
    "# max_income = df.groupby('age')['income'].max().to_dict()\n",
    "# df['max_income_age'] = df['age'].map(max_income)\n",
    "\n",
    "# and normalize it\n",
    "# df[\"normalized_income\"] = abs((df.income - df.mean_income_age)/df.max_income_age)\n",
    "# df[\"normalized_income\"] = abs((df.income - df['age'].map(mean_income))/df['age'].map(max_income))\n",
    "\n",
    "# requests to BKI by age\n",
    "# mean_bki = df.groupby('age')['bki_request_cnt'].mean().to_dict()\n",
    "# df['mean_requests_age'] = df['age'].map(mean_bki)\n",
    "\n",
    "# mean decline_app by income\n",
    "# mean_bki_inc = df.groupby('income')['bki_request_cnt'].mean().to_dict()\n",
    "# df['mean_requests_income'] = df['income'].map(mean_bki_inc)\n",
    "\n",
    "# mean BKI requests by income\n",
    "# mean_decline = df.groupby('income')['decline_app_cnt'].mean().to_dict()\n",
    "# df['mean_decline_income'] = df['income'].map(mean_decline)\n",
    "\n",
    "\n",
    "# Mean income by region\n",
    "# mean_income_rat = df.groupby('region_rating')['income'].mean().to_dict()\n",
    "# df['mean_income_region'] = df['region_rating'].map(mean_income_rat)\n",
    "\n",
    "# df['income_age'] = df.income*df['age']\n",
    "# df['income_region'] = df['region_rating']*df['income']"
   ]
  },
  {
   "cell_type": "markdown",
   "id": "cee73e94",
   "metadata": {
    "papermill": {
     "duration": 0.097112,
     "end_time": "2021-07-22T23:15:56.708143",
     "exception": false,
     "start_time": "2021-07-22T23:15:56.611031",
     "status": "completed"
    },
    "tags": []
   },
   "source": [
    "Включение вышеприведенных признаков ухудшает показатель roc_auc_score"
   ]
  },
  {
   "cell_type": "code",
   "execution_count": 31,
   "id": "c70b3db0",
   "metadata": {
    "execution": {
     "iopub.execute_input": "2021-07-22T23:15:56.911105Z",
     "iopub.status.busy": "2021-07-22T23:15:56.910452Z",
     "iopub.status.idle": "2021-07-22T23:15:56.913546Z",
     "shell.execute_reply": "2021-07-22T23:15:56.913037Z",
     "shell.execute_reply.started": "2021-07-22T23:09:07.516473Z"
    },
    "papermill": {
     "duration": 0.108246,
     "end_time": "2021-07-22T23:15:56.913690",
     "exception": false,
     "start_time": "2021-07-22T23:15:56.805444",
     "status": "completed"
    },
    "tags": []
   },
   "outputs": [],
   "source": [
    "# Разделим предварительно наши данные на бинарные, категориальные и числовые. \n",
    "# Это деление общие для датасеты train и test\n",
    "\n",
    "def data_sort(data):\n",
    "    bin_cols = list()\n",
    "    cat_cols = list()\n",
    "    num_cols = list()\n",
    "\n",
    "    for col in data.drop(['client_id', 'default','default_is'], axis=1).columns:\n",
    "        if data[col].nunique() <= 2:\n",
    "            bin_cols.append(col)\n",
    "\n",
    "        elif 2 < data[col].nunique() <= 5:\n",
    "            cat_cols.append(col)\n",
    "\n",
    "        elif data[col].nunique() > 5 and data[col].dtype in [\"int64\", \"float64\"]:\n",
    "            num_cols.append(col)\n",
    "\n",
    "    return bin_cols, cat_cols, num_cols"
   ]
  },
  {
   "cell_type": "code",
   "execution_count": 32,
   "id": "03cfc86c",
   "metadata": {
    "execution": {
     "iopub.execute_input": "2021-07-22T23:15:57.160811Z",
     "iopub.status.busy": "2021-07-22T23:15:57.160187Z",
     "iopub.status.idle": "2021-07-22T23:15:57.382946Z",
     "shell.execute_reply": "2021-07-22T23:15:57.382321Z",
     "shell.execute_reply.started": "2021-07-22T23:09:07.531538Z"
    },
    "papermill": {
     "duration": 0.371594,
     "end_time": "2021-07-22T23:15:57.383096",
     "exception": false,
     "start_time": "2021-07-22T23:15:57.011502",
     "status": "completed"
    },
    "tags": []
   },
   "outputs": [],
   "source": [
    "bin_cols, cat_cols, num_cols = data_sort(df)"
   ]
  },
  {
   "cell_type": "code",
   "execution_count": 33,
   "id": "7fa5cd6b",
   "metadata": {
    "execution": {
     "iopub.execute_input": "2021-07-22T23:15:57.582739Z",
     "iopub.status.busy": "2021-07-22T23:15:57.582058Z",
     "iopub.status.idle": "2021-07-22T23:15:57.585100Z",
     "shell.execute_reply": "2021-07-22T23:15:57.584573Z",
     "shell.execute_reply.started": "2021-07-22T23:09:07.769304Z"
    },
    "papermill": {
     "duration": 0.10349,
     "end_time": "2021-07-22T23:15:57.585254",
     "exception": false,
     "start_time": "2021-07-22T23:15:57.481764",
     "status": "completed"
    },
    "tags": []
   },
   "outputs": [],
   "source": [
    "# Переведем дату в катеогрию \"численные\", т.к. это влияет на метрики модели, чем как категориальный\n",
    "cat_cols.remove('app_month')\n",
    "num_cols.append('app_month')\n",
    "# bin_cols, cat_cols, num_cols"
   ]
  },
  {
   "cell_type": "code",
   "execution_count": 34,
   "id": "8513fcc0",
   "metadata": {
    "execution": {
     "iopub.execute_input": "2021-07-22T23:15:57.785852Z",
     "iopub.status.busy": "2021-07-22T23:15:57.785247Z",
     "iopub.status.idle": "2021-07-22T23:15:57.788232Z",
     "shell.execute_reply": "2021-07-22T23:15:57.787590Z",
     "shell.execute_reply.started": "2021-07-22T23:09:07.776757Z"
    },
    "papermill": {
     "duration": 0.104698,
     "end_time": "2021-07-22T23:15:57.788372",
     "exception": false,
     "start_time": "2021-07-22T23:15:57.683674",
     "status": "completed"
    },
    "tags": []
   },
   "outputs": [],
   "source": [
    "cols = num_cols.copy()"
   ]
  },
  {
   "cell_type": "markdown",
   "id": "3f240b00",
   "metadata": {
    "papermill": {
     "duration": 0.098159,
     "end_time": "2021-07-22T23:15:57.984707",
     "exception": false,
     "start_time": "2021-07-22T23:15:57.886548",
     "status": "completed"
    },
    "tags": []
   },
   "source": [
    "## Добавим в датасеты train,test полиномы основных числовых признаков"
   ]
  },
  {
   "cell_type": "code",
   "execution_count": 35,
   "id": "17ce8766",
   "metadata": {
    "execution": {
     "iopub.execute_input": "2021-07-22T23:15:58.195103Z",
     "iopub.status.busy": "2021-07-22T23:15:58.193877Z",
     "iopub.status.idle": "2021-07-22T23:15:59.507662Z",
     "shell.execute_reply": "2021-07-22T23:15:59.508199Z",
     "shell.execute_reply.started": "2021-07-22T23:09:07.787834Z"
    },
    "papermill": {
     "duration": 1.423569,
     "end_time": "2021-07-22T23:15:59.508375",
     "exception": false,
     "start_time": "2021-07-22T23:15:58.084806",
     "status": "completed"
    },
    "tags": []
   },
   "outputs": [
    {
     "data": {
      "text/plain": [
       "(110148, 48)"
      ]
     },
     "execution_count": 35,
     "metadata": {},
     "output_type": "execute_result"
    }
   ],
   "source": [
    "# Формируем полиномиальные признаки из числовых\n",
    "pf = PolynomialFeatures(degree=2)\n",
    "new_data = pf.fit_transform(df[num_cols])[:, len(num_cols) + 1:]\n",
    "pf_columns = pf.get_feature_names()[len(num_cols) + 1 :]\n",
    "\n",
    "# добавляем новые полиномиальные значения к датасету\n",
    "df = pd.concat([df, pd.DataFrame(new_data, columns=pf_columns)], axis=1)\n",
    "\n",
    "# добавляем новые полиномиальные признаки к датасету\n",
    "num_cols.extend(pf_columns)\n",
    "\n",
    "# Нормализация признаков num_cols\n",
    "df[num_cols] = StandardScaler().fit_transform(df[num_cols].values)\n",
    "\n",
    "df.shape"
   ]
  },
  {
   "cell_type": "code",
   "execution_count": 36,
   "id": "e3fef46e",
   "metadata": {
    "execution": {
     "iopub.execute_input": "2021-07-22T23:15:59.705539Z",
     "iopub.status.busy": "2021-07-22T23:15:59.704849Z",
     "iopub.status.idle": "2021-07-22T23:15:59.942711Z",
     "shell.execute_reply": "2021-07-22T23:15:59.942070Z",
     "shell.execute_reply.started": "2021-07-22T23:09:09.127362Z"
    },
    "papermill": {
     "duration": 0.337343,
     "end_time": "2021-07-22T23:15:59.942851",
     "exception": false,
     "start_time": "2021-07-22T23:15:59.605508",
     "status": "completed"
    },
    "tags": []
   },
   "outputs": [
    {
     "data": {
      "text/plain": [
       "({'sex': {0: 'F', 1: 'M'},\n",
       "  'car': {0: 'N', 1: 'Y'},\n",
       "  'car_type': {0: 'N', 1: 'Y'},\n",
       "  'good_work': {0: 0, 1: 1},\n",
       "  'foreign_passport': {0: 'N', 1: 'Y'}},\n",
       " {'education': {0: 'ACD', 1: 'GRD', 2: 'PGR', 3: 'SCH', 4: 'UGR'},\n",
       "  'home_address': {0: 1, 1: 2, 2: 3},\n",
       "  'work_address': {0: 1, 1: 2, 2: 3},\n",
       "  'sna': {0: 1, 1: 2, 2: 3, 3: 4},\n",
       "  'first_time': {0: 1, 1: 2, 2: 3, 3: 4}})"
      ]
     },
     "execution_count": 36,
     "metadata": {},
     "output_type": "execute_result"
    }
   ],
   "source": [
    " # Преобразуем категориальных и бинарных признаков на числовые классификации\n",
    "mapp = {}\n",
    "label_encoder = LabelEncoder()\n",
    "for col in bin_cols:\n",
    "    df[col] = label_encoder.fit_transform(df[col])\n",
    "    mapp[col] = dict(enumerate(label_encoder.classes_))\n",
    "\n",
    "mappc = {}\n",
    "enc = OneHotEncoder()\n",
    "for col in cat_cols:\n",
    "    df[col] = label_encoder.fit_transform(df[col])\n",
    "    mappc[col] = dict(enumerate(label_encoder.classes_))\n",
    "mapp, mappc"
   ]
  },
  {
   "cell_type": "code",
   "execution_count": 37,
   "id": "32725060",
   "metadata": {
    "execution": {
     "iopub.execute_input": "2021-07-22T23:16:00.143536Z",
     "iopub.status.busy": "2021-07-22T23:16:00.142856Z",
     "iopub.status.idle": "2021-07-22T23:16:00.225594Z",
     "shell.execute_reply": "2021-07-22T23:16:00.224932Z",
     "shell.execute_reply.started": "2021-07-22T23:09:09.344586Z"
    },
    "papermill": {
     "duration": 0.184848,
     "end_time": "2021-07-22T23:16:00.225730",
     "exception": false,
     "start_time": "2021-07-22T23:16:00.040882",
     "status": "completed"
    },
    "tags": []
   },
   "outputs": [],
   "source": [
    "# Создаем и добавим в датасет новые dummy переменные для категориальных признаков\n",
    "dataset = df.copy()\n",
    "df = pd.get_dummies(dataset, prefix=cat_cols, columns=cat_cols)"
   ]
  },
  {
   "cell_type": "code",
   "execution_count": 38,
   "id": "afc6ba40",
   "metadata": {
    "execution": {
     "iopub.execute_input": "2021-07-22T23:16:00.425779Z",
     "iopub.status.busy": "2021-07-22T23:16:00.424933Z",
     "iopub.status.idle": "2021-07-22T23:16:00.428438Z",
     "shell.execute_reply": "2021-07-22T23:16:00.428915Z",
     "shell.execute_reply.started": "2021-07-22T23:09:09.430662Z"
    },
    "papermill": {
     "duration": 0.106392,
     "end_time": "2021-07-22T23:16:00.429077",
     "exception": false,
     "start_time": "2021-07-22T23:16:00.322685",
     "status": "completed"
    },
    "tags": []
   },
   "outputs": [
    {
     "data": {
      "text/plain": [
       "(110148, 62)"
      ]
     },
     "execution_count": 38,
     "metadata": {},
     "output_type": "execute_result"
    }
   ],
   "source": [
    "df.shape"
   ]
  },
  {
   "cell_type": "markdown",
   "id": "c2ca2e70",
   "metadata": {
    "papermill": {
     "duration": 0.096708,
     "end_time": "2021-07-22T23:16:00.623162",
     "exception": false,
     "start_time": "2021-07-22T23:16:00.526454",
     "status": "completed"
    },
    "tags": []
   },
   "source": [
    "## Посмотрим влияние признаков на целевую"
   ]
  },
  {
   "cell_type": "code",
   "execution_count": 39,
   "id": "f577c734",
   "metadata": {
    "execution": {
     "iopub.execute_input": "2021-07-22T23:16:00.822116Z",
     "iopub.status.busy": "2021-07-22T23:16:00.821033Z",
     "iopub.status.idle": "2021-07-22T23:16:00.836946Z",
     "shell.execute_reply": "2021-07-22T23:16:00.836280Z",
     "shell.execute_reply.started": "2021-07-22T23:09:09.437981Z"
    },
    "papermill": {
     "duration": 0.116534,
     "end_time": "2021-07-22T23:16:00.837087",
     "exception": false,
     "start_time": "2021-07-22T23:16:00.720553",
     "status": "completed"
    },
    "tags": []
   },
   "outputs": [],
   "source": [
    "data_temp = dataset.loc[data['default_is'] == 1] "
   ]
  },
  {
   "cell_type": "code",
   "execution_count": 40,
   "id": "f88bb0fb",
   "metadata": {
    "execution": {
     "iopub.execute_input": "2021-07-22T23:16:01.045906Z",
     "iopub.status.busy": "2021-07-22T23:16:01.044912Z",
     "iopub.status.idle": "2021-07-22T23:16:01.285288Z",
     "shell.execute_reply": "2021-07-22T23:16:01.285777Z",
     "shell.execute_reply.started": "2021-07-22T23:09:09.461184Z"
    },
    "papermill": {
     "duration": 0.351015,
     "end_time": "2021-07-22T23:16:01.285957",
     "exception": false,
     "start_time": "2021-07-22T23:16:00.934942",
     "status": "completed"
    },
    "tags": []
   },
   "outputs": [
    {
     "data": {
      "text/plain": [
       "<AxesSubplot:>"
      ]
     },
     "execution_count": 40,
     "metadata": {},
     "output_type": "execute_result"
    },
    {
     "data": {
      "image/png": "[encoded data removed]",
      "text/plain": [
       "<Figure size 432x288 with 1 Axes>"
      ]
     },
     "metadata": {},
     "output_type": "display_data"
    }
   ],
   "source": [
    "# Анализируем основные числовые признаки (без полиномальных)\n",
    "imp_num = pd.Series(f_classif(data_temp[cols], data_temp['default'])[0], index = cols)\n",
    "imp_num.sort_values(inplace = True)\n",
    "imp_num.plot(kind = 'barh')"
   ]
  },
  {
   "cell_type": "code",
   "execution_count": 41,
   "id": "50208218",
   "metadata": {
    "execution": {
     "iopub.execute_input": "2021-07-22T23:16:01.492116Z",
     "iopub.status.busy": "2021-07-22T23:16:01.491141Z",
     "iopub.status.idle": "2021-07-22T23:16:01.829780Z",
     "shell.execute_reply": "2021-07-22T23:16:01.829179Z",
     "shell.execute_reply.started": "2021-07-22T23:09:09.713519Z"
    },
    "papermill": {
     "duration": 0.445715,
     "end_time": "2021-07-22T23:16:01.829915",
     "exception": false,
     "start_time": "2021-07-22T23:16:01.384200",
     "status": "completed"
    },
    "tags": []
   },
   "outputs": [
    {
     "data": {
      "text/plain": [
       "<AxesSubplot:>"
      ]
     },
     "execution_count": 41,
     "metadata": {},
     "output_type": "execute_result"
    },
    {
     "data": {
      "image/png": "[encoded data removed]",
      "text/plain": [
       "<Figure size 432x288 with 1 Axes>"
      ]
     },
     "metadata": {},
     "output_type": "display_data"
    }
   ],
   "source": [
    "# Анализируем категориальных и бинарных признаков\n",
    "imp_cat = pd.Series(mutual_info_classif(data_temp[bin_cols + cat_cols], \n",
    "             data_temp['default'], discrete_features =True), \n",
    "             index = bin_cols + cat_cols)\n",
    "imp_cat.sort_values(inplace = True)\n",
    "imp_cat.plot(kind = 'barh')"
   ]
  },
  {
   "cell_type": "markdown",
   "id": "b5760e3a",
   "metadata": {
    "papermill": {
     "duration": 0.101736,
     "end_time": "2021-07-22T23:16:02.032724",
     "exception": false,
     "start_time": "2021-07-22T23:16:01.930988",
     "status": "completed"
    },
    "tags": []
   },
   "source": [
    "# Моделирование "
   ]
  },
  {
   "cell_type": "code",
   "execution_count": 42,
   "id": "9cadd9aa",
   "metadata": {
    "execution": {
     "iopub.execute_input": "2021-07-22T23:16:02.240851Z",
     "iopub.status.busy": "2021-07-22T23:16:02.240138Z",
     "iopub.status.idle": "2021-07-22T23:16:02.243421Z",
     "shell.execute_reply": "2021-07-22T23:16:02.242866Z",
     "shell.execute_reply.started": "2021-07-22T23:09:10.065427Z"
    },
    "papermill": {
     "duration": 0.108211,
     "end_time": "2021-07-22T23:16:02.243562",
     "exception": false,
     "start_time": "2021-07-22T23:16:02.135351",
     "status": "completed"
    },
    "tags": []
   },
   "outputs": [],
   "source": [
    "# Зафиксируем RANDOM_SEED, чтобы эксперименты были воспроизводимы\n",
    "RANDOM_SEED = 42"
   ]
  },
  {
   "cell_type": "code",
   "execution_count": 43,
   "id": "e2399abe",
   "metadata": {
    "execution": {
     "iopub.execute_input": "2021-07-22T23:16:02.459979Z",
     "iopub.status.busy": "2021-07-22T23:16:02.459326Z",
     "iopub.status.idle": "2021-07-22T23:16:02.547003Z",
     "shell.execute_reply": "2021-07-22T23:16:02.547529Z",
     "shell.execute_reply.started": "2021-07-22T23:09:10.071188Z"
    },
    "papermill": {
     "duration": 0.203511,
     "end_time": "2021-07-22T23:16:02.547696",
     "exception": false,
     "start_time": "2021-07-22T23:16:02.344185",
     "status": "completed"
    },
    "tags": []
   },
   "outputs": [],
   "source": [
    "# Выделение подготовленные датасеты для обучения и тестирования\n",
    "train_df = df.query('default_is == 1').drop(['default_is','client_id'], axis=1)\n",
    "test_df = df.query('default_is == 0').drop(['default_is','client_id'], axis=1)\n",
    "\n",
    "# Выделим целевую переменную из train датасета\n",
    "X = train_df.drop(['default'], axis=1).values\n",
    "Y = train_df['default'].values "
   ]
  },
  {
   "cell_type": "code",
   "execution_count": 44,
   "id": "e5890fdf",
   "metadata": {
    "execution": {
     "iopub.execute_input": "2021-07-22T23:16:02.753888Z",
     "iopub.status.busy": "2021-07-22T23:16:02.753108Z",
     "iopub.status.idle": "2021-07-22T23:16:02.763266Z",
     "shell.execute_reply": "2021-07-22T23:16:02.763782Z",
     "shell.execute_reply.started": "2021-07-22T23:09:10.181278Z"
    },
    "papermill": {
     "duration": 0.114255,
     "end_time": "2021-07-22T23:16:02.763962",
     "exception": false,
     "start_time": "2021-07-22T23:16:02.649707",
     "status": "completed"
    },
    "tags": []
   },
   "outputs": [],
   "source": [
    "# Функция для обучения с помощиью модели LogisticRegression с использованием GridSearchCV\n",
    "def predict_engine():\n",
    "    # Создадим гиперпараметры. \n",
    "    # hyperparameters = dict(C=[0.01, 0.1, 1], penalty=['l1','l2'])\n",
    "    hyperparameters = dict(C=[0.01], penalty=['l2'])\n",
    "    model = LogisticRegression(max_iter=1000, solver='liblinear', random_state=RANDOM_SEED)\n",
    "\n",
    "    # Создаем сетку поиска с использованием 5-кратной перекрестной проверки\n",
    "    return GridSearchCV(model, hyperparameters, cv=5, verbose=0)\n",
    "\n",
    "# Функция оценки качества работы модели\n",
    "def model_scoring(y_test, probs):\n",
    "    fpr, tpr, threshold = roc_curve(y_test, probs)\n",
    "    plt.figure()\n",
    "    plt.plot([0, 1], label='Baseline', linestyle='--')\n",
    "    plt.plot(fpr, tpr, label = 'Regression')\n",
    "    plt.title('ROC AUC SCORE = %0.5f' % roc_auc_score(y_test, probs))\n",
    "    plt.ylabel('True Positive Rate')\n",
    "    plt.xlabel('False Positive Rate')\n",
    "    plt.legend(loc = 'lower right')\n",
    "\n",
    "# Функция печати метрик модели\n",
    "def print_rez():\n",
    "    print('accuracy_score:',accuracy_score(Y_test,Y_pred))\n",
    "    print('precision_score:',precision_score(Y_test,Y_pred))\n",
    "    print('recall_score:',recall_score(Y_test,Y_pred))\n",
    "    print('f1_score:',f1_score(Y_test,Y_pred))\n",
    "    print('MSE: {}'.format(np.round(mean_squared_error(Y_test, Y_pred), 4)))\n",
    "    \n",
    "# Просмотр результата тренировки модели спомощью Confusion Matrix\n",
    "def conf_matrix():\n",
    "    conf_mat = confusion_matrix(Y_test, Y_pred)\n",
    "    sns.set(font_scale=1.4) \n",
    "    sns.heatmap(conf_mat, annot=True, annot_kws={\"size\": 16}, fmt='g', cmap=colormap)"
   ]
  },
  {
   "cell_type": "markdown",
   "id": "516e6542",
   "metadata": {
    "papermill": {
     "duration": 0.099828,
     "end_time": "2021-07-22T23:16:02.965894",
     "exception": false,
     "start_time": "2021-07-22T23:16:02.866066",
     "status": "completed"
    },
    "tags": []
   },
   "source": [
    "Обучим модель на train_df сете, предварительно разделив его  для использования метрик. Это разделение и обучение используется исключительно для приблизительного замера модели с помощью roc_auc_score и сonfusion matrix. Для итогового результата train_df датасет делить не будем"
   ]
  },
  {
   "cell_type": "code",
   "execution_count": 45,
   "id": "3a2802f4",
   "metadata": {
    "execution": {
     "iopub.execute_input": "2021-07-22T23:16:03.174031Z",
     "iopub.status.busy": "2021-07-22T23:16:03.173357Z",
     "iopub.status.idle": "2021-07-22T23:16:03.234231Z",
     "shell.execute_reply": "2021-07-22T23:16:03.234814Z",
     "shell.execute_reply.started": "2021-07-22T23:09:10.193677Z"
    },
    "papermill": {
     "duration": 0.166018,
     "end_time": "2021-07-22T23:16:03.235001",
     "exception": false,
     "start_time": "2021-07-22T23:16:03.068983",
     "status": "completed"
    },
    "tags": []
   },
   "outputs": [],
   "source": [
    "# Подготовка данных для модели\n",
    "X_train, X_test, Y_train, Y_test = train_test_split(X, Y, test_size=0.2, random_state=RANDOM_SEED)"
   ]
  },
  {
   "cell_type": "markdown",
   "id": "f5812304",
   "metadata": {
    "papermill": {
     "duration": 0.100811,
     "end_time": "2021-07-22T23:16:03.437596",
     "exception": false,
     "start_time": "2021-07-22T23:16:03.336785",
     "status": "completed"
    },
    "tags": []
   },
   "source": [
    "## Обучения с помощиью модели LogisticRegression и GridSearchCV"
   ]
  },
  {
   "cell_type": "code",
   "execution_count": 46,
   "id": "cce900a3",
   "metadata": {
    "execution": {
     "iopub.execute_input": "2021-07-22T23:16:03.645196Z",
     "iopub.status.busy": "2021-07-22T23:16:03.642746Z",
     "iopub.status.idle": "2021-07-22T23:16:08.649746Z",
     "shell.execute_reply": "2021-07-22T23:16:08.650252Z",
     "shell.execute_reply.started": "2021-07-22T23:09:10.269303Z"
    },
    "papermill": {
     "duration": 5.110828,
     "end_time": "2021-07-22T23:16:08.650429",
     "exception": false,
     "start_time": "2021-07-22T23:16:03.539601",
     "status": "completed"
    },
    "tags": []
   },
   "outputs": [
    {
     "data": {
      "image/png": "[encoded data removed]",
      "text/plain": [
       "<Figure size 432x288 with 1 Axes>"
      ]
     },
     "metadata": {},
     "output_type": "display_data"
    }
   ],
   "source": [
    "# Обучение модели\n",
    "clf = predict_engine()\n",
    "clf.fit(X_train, Y_train)\n",
    "probs = clf.predict_proba(X_test)[:, 1]\n",
    "Y_pred = clf.predict(X_test)\n",
    "\n",
    "model_scoring(Y_test, probs)"
   ]
  },
  {
   "cell_type": "code",
   "execution_count": 47,
   "id": "7cab928a",
   "metadata": {
    "execution": {
     "iopub.execute_input": "2021-07-22T23:16:08.859276Z",
     "iopub.status.busy": "2021-07-22T23:16:08.858291Z",
     "iopub.status.idle": "2021-07-22T23:16:08.862215Z",
     "shell.execute_reply": "2021-07-22T23:16:08.862781Z",
     "shell.execute_reply.started": "2021-07-22T23:09:15.355610Z"
    },
    "papermill": {
     "duration": 0.110652,
     "end_time": "2021-07-22T23:16:08.862970",
     "exception": false,
     "start_time": "2021-07-22T23:16:08.752318",
     "status": "completed"
    },
    "tags": []
   },
   "outputs": [],
   "source": [
    "# clf.best_params_"
   ]
  },
  {
   "cell_type": "code",
   "execution_count": 48,
   "id": "e9f32d74",
   "metadata": {
    "execution": {
     "iopub.execute_input": "2021-07-22T23:16:09.073432Z",
     "iopub.status.busy": "2021-07-22T23:16:09.072395Z",
     "iopub.status.idle": "2021-07-22T23:16:09.098444Z",
     "shell.execute_reply": "2021-07-22T23:16:09.097608Z",
     "shell.execute_reply.started": "2021-07-22T23:09:15.362994Z"
    },
    "papermill": {
     "duration": 0.132877,
     "end_time": "2021-07-22T23:16:09.098630",
     "exception": false,
     "start_time": "2021-07-22T23:16:08.965753",
     "status": "completed"
    },
    "tags": []
   },
   "outputs": [
    {
     "name": "stdout",
     "output_type": "stream",
     "text": [
      "accuracy_score: 0.8752032520325204\n",
      "precision_score: 0.3972602739726027\n",
      "recall_score: 0.015873015873015872\n",
      "f1_score: 0.030526315789473683\n",
      "MSE: 0.1248\n"
     ]
    }
   ],
   "source": [
    "print_rez()"
   ]
  },
  {
   "cell_type": "code",
   "execution_count": 49,
   "id": "23fbc817",
   "metadata": {
    "execution": {
     "iopub.execute_input": "2021-07-22T23:16:09.308984Z",
     "iopub.status.busy": "2021-07-22T23:16:09.307942Z",
     "iopub.status.idle": "2021-07-22T23:16:09.585358Z",
     "shell.execute_reply": "2021-07-22T23:16:09.584374Z",
     "shell.execute_reply.started": "2021-07-22T23:09:15.403835Z"
    },
    "papermill": {
     "duration": 0.383833,
     "end_time": "2021-07-22T23:16:09.585511",
     "exception": false,
     "start_time": "2021-07-22T23:16:09.201678",
     "status": "completed"
    },
    "tags": []
   },
   "outputs": [
    {
     "data": {
      "image/png": "[encoded data removed]",
      "text/plain": [
       "<Figure size 432x288 with 2 Axes>"
      ]
     },
     "metadata": {},
     "output_type": "display_data"
    }
   ],
   "source": [
    "# Посмотрим на результат тренировки модели спомощью Confusion Matrix\n",
    "conf_matrix()"
   ]
  },
  {
   "cell_type": "code",
   "execution_count": 50,
   "id": "fdd9b850",
   "metadata": {
    "execution": {
     "iopub.execute_input": "2021-07-22T23:16:09.798636Z",
     "iopub.status.busy": "2021-07-22T23:16:09.797970Z",
     "iopub.status.idle": "2021-07-22T23:16:15.923769Z",
     "shell.execute_reply": "2021-07-22T23:16:15.923001Z",
     "shell.execute_reply.started": "2021-07-22T23:09:15.680117Z"
    },
    "papermill": {
     "duration": 6.23463,
     "end_time": "2021-07-22T23:16:15.923929",
     "exception": false,
     "start_time": "2021-07-22T23:16:09.689299",
     "status": "completed"
    },
    "tags": []
   },
   "outputs": [
    {
     "data": {
      "text/plain": [
       "GridSearchCV(cv=5,\n",
       "             estimator=LogisticRegression(max_iter=1000, random_state=42,\n",
       "                                          solver='liblinear'),\n",
       "             param_grid={'C': [0.01], 'penalty': ['l2']})"
      ]
     },
     "execution_count": 50,
     "metadata": {},
     "output_type": "execute_result"
    }
   ],
   "source": [
    "# Теперь создадим новую модель и обучим ее на полном train датасете\n",
    "clf.fit(X, Y)"
   ]
  },
  {
   "cell_type": "code",
   "execution_count": 51,
   "id": "96224031",
   "metadata": {
    "execution": {
     "iopub.execute_input": "2021-07-22T23:16:16.136290Z",
     "iopub.status.busy": "2021-07-22T23:16:16.135344Z",
     "iopub.status.idle": "2021-07-22T23:16:16.186930Z",
     "shell.execute_reply": "2021-07-22T23:16:16.187800Z",
     "shell.execute_reply.started": "2021-07-22T23:09:21.975477Z"
    },
    "papermill": {
     "duration": 0.160363,
     "end_time": "2021-07-22T23:16:16.188067",
     "exception": false,
     "start_time": "2021-07-22T23:16:16.027704",
     "status": "completed"
    },
    "tags": []
   },
   "outputs": [
    {
     "data": {
      "text/html": [
       "<div>\n",
       "<style scoped>\n",
       "    .dataframe tbody tr th:only-of-type {\n",
       "        vertical-align: middle;\n",
       "    }\n",
       "\n",
       "    .dataframe tbody tr th {\n",
       "        vertical-align: top;\n",
       "    }\n",
       "\n",
       "    .dataframe thead th {\n",
       "        text-align: right;\n",
       "    }\n",
       "</style>\n",
       "<table border=\"1\" class=\"dataframe\">\n",
       "  <thead>\n",
       "    <tr style=\"text-align: right;\">\n",
       "      <th></th>\n",
       "      <th>client_id</th>\n",
       "      <th>default</th>\n",
       "    </tr>\n",
       "  </thead>\n",
       "  <tbody>\n",
       "    <tr>\n",
       "      <th>0</th>\n",
       "      <td>74835</td>\n",
       "      <td>0.039952</td>\n",
       "    </tr>\n",
       "    <tr>\n",
       "      <th>1</th>\n",
       "      <td>17527</td>\n",
       "      <td>0.366893</td>\n",
       "    </tr>\n",
       "    <tr>\n",
       "      <th>2</th>\n",
       "      <td>75683</td>\n",
       "      <td>0.065665</td>\n",
       "    </tr>\n",
       "    <tr>\n",
       "      <th>3</th>\n",
       "      <td>26883</td>\n",
       "      <td>0.079200</td>\n",
       "    </tr>\n",
       "    <tr>\n",
       "      <th>4</th>\n",
       "      <td>28862</td>\n",
       "      <td>0.025577</td>\n",
       "    </tr>\n",
       "  </tbody>\n",
       "</table>\n",
       "</div>"
      ],
      "text/plain": [
       "   client_id   default\n",
       "0      74835  0.039952\n",
       "1      17527  0.366893\n",
       "2      75683  0.065665\n",
       "3      26883  0.079200\n",
       "4      28862  0.025577"
      ]
     },
     "execution_count": 51,
     "metadata": {},
     "output_type": "execute_result"
    }
   ],
   "source": [
    "# Предсказание на тестовой модели и подготовка данных для Leaderboard\n",
    "test_df = df.query('default == -1').drop(['client_id', 'default_is', 'default'], axis=1)\n",
    "test['default'] = clf.predict_proba(test_df)[:, 1]\n",
    "test[['client_id', 'default']].head()"
   ]
  },
  {
   "cell_type": "markdown",
   "id": "9acbc8a8",
   "metadata": {
    "papermill": {
     "duration": 0.104014,
     "end_time": "2021-07-22T23:16:16.440217",
     "exception": false,
     "start_time": "2021-07-22T23:16:16.336203",
     "status": "completed"
    },
    "tags": []
   },
   "source": [
    "### Балансировка датасет train \n",
    "\n",
    "* Выберем случайным образом из train_df['default']==0 такое количество строк, которое\n",
    "* равнялось бы train['default']==1, и затем объединим с train_df['default']==1."
   ]
  },
  {
   "cell_type": "code",
   "execution_count": 52,
   "id": "a3debf51",
   "metadata": {
    "execution": {
     "iopub.execute_input": "2021-07-22T23:16:16.659485Z",
     "iopub.status.busy": "2021-07-22T23:16:16.654744Z",
     "iopub.status.idle": "2021-07-22T23:16:16.736010Z",
     "shell.execute_reply": "2021-07-22T23:16:16.735482Z",
     "shell.execute_reply.started": "2021-07-22T23:09:22.025670Z"
    },
    "papermill": {
     "duration": 0.19196,
     "end_time": "2021-07-22T23:16:16.736181",
     "exception": false,
     "start_time": "2021-07-22T23:16:16.544221",
     "status": "completed"
    },
    "tags": []
   },
   "outputs": [],
   "source": [
    "df_1 = df.query('default_is == 1').drop(['default_is','client_id'], axis=1)\n",
    "\n",
    "under_train = pd.concat([df_1[df_1['default']==0].sample(\n",
    "    len(df_1[df_1['default']==1]), random_state=RANDOM_SEED), df_1[df_1['default']==1]])\n",
    "\n",
    "X_1 = under_train.drop(columns = ['default'])\n",
    "Y_1 = under_train['default']\n",
    "\n",
    "X_train, X_test, Y_train, Y_test = train_test_split(X_1, Y_1,  test_size=0.2, random_state = RANDOM_SEED)"
   ]
  },
  {
   "cell_type": "markdown",
   "id": "914afe8b",
   "metadata": {
    "papermill": {
     "duration": 0.105582,
     "end_time": "2021-07-22T23:16:16.944791",
     "exception": false,
     "start_time": "2021-07-22T23:16:16.839209",
     "status": "completed"
    },
    "tags": []
   },
   "source": [
    "### Обучение модели с поомощью балансированного датасета "
   ]
  },
  {
   "cell_type": "code",
   "execution_count": 53,
   "id": "4d398cb3",
   "metadata": {
    "execution": {
     "iopub.execute_input": "2021-07-22T23:16:17.162852Z",
     "iopub.status.busy": "2021-07-22T23:16:17.162097Z",
     "iopub.status.idle": "2021-07-22T23:16:37.868665Z",
     "shell.execute_reply": "2021-07-22T23:16:37.868102Z",
     "shell.execute_reply.started": "2021-07-22T23:09:22.156644Z"
    },
    "papermill": {
     "duration": 20.818934,
     "end_time": "2021-07-22T23:16:37.868810",
     "exception": false,
     "start_time": "2021-07-22T23:16:17.049876",
     "status": "completed"
    },
    "tags": []
   },
   "outputs": [
    {
     "name": "stdout",
     "output_type": "stream",
     "text": [
      "Fitting 5 folds for each of 6 candidates, totalling 30 fits\n"
     ]
    },
    {
     "name": "stderr",
     "output_type": "stream",
     "text": [
      "[Parallel(n_jobs=1)]: Using backend SequentialBackend with 1 concurrent workers.\n",
      "[Parallel(n_jobs=1)]: Done  30 out of  30 | elapsed:   20.2s finished\n"
     ]
    },
    {
     "data": {
      "image/png": "[encoded data removed]",
      "text/plain": [
       "<Figure size 432x288 with 1 Axes>"
      ]
     },
     "metadata": {},
     "output_type": "display_data"
    }
   ],
   "source": [
    "# Попробуем поменять class_weight и с помощью GridSearchCV найти оптимальные параметры\n",
    "lr = LogisticRegression(solver='liblinear', class_weight='balanced', random_state=RANDOM_SEED)\n",
    "\n",
    "hyperparameters = dict(C=[0.01, 0.1, 1], max_iter=[1000],penalty=['l1','l2'])\n",
    "# hyperparameters = dict(C=np.linspace(0, 100, 5),max_iter=[1500], penalty=['l1','l2'])\n",
    "\n",
    "# params = {'C': [0.01, 0.1, 1], 'max_iter': 1000}\n",
    "\n",
    "lr_bal = GridSearchCV(lr, hyperparameters, verbose=1, cv=5)\n",
    "\n",
    "lr_bal.fit(X_train, Y_train)\n",
    "probs = lr_bal.predict_proba(X_test)\n",
    "Y_pred = lr_bal.predict(X_test)\n",
    "probs = probs[:,1]\n",
    "\n",
    "model_scoring(Y_test, probs)"
   ]
  },
  {
   "cell_type": "code",
   "execution_count": 54,
   "id": "cc45460d",
   "metadata": {
    "execution": {
     "iopub.execute_input": "2021-07-22T23:16:38.090988Z",
     "iopub.status.busy": "2021-07-22T23:16:38.090326Z",
     "iopub.status.idle": "2021-07-22T23:16:38.093409Z",
     "shell.execute_reply": "2021-07-22T23:16:38.094093Z",
     "shell.execute_reply.started": "2021-07-22T23:09:42.921736Z"
    },
    "papermill": {
     "duration": 0.117228,
     "end_time": "2021-07-22T23:16:38.094330",
     "exception": false,
     "start_time": "2021-07-22T23:16:37.977102",
     "status": "completed"
    },
    "tags": []
   },
   "outputs": [
    {
     "name": "stdout",
     "output_type": "stream",
     "text": [
      "Лучшие параметры модели:  {'C': 0.01, 'max_iter': 1000, 'penalty': 'l2'}\n"
     ]
    }
   ],
   "source": [
    "print(\"Лучшие параметры модели: \", lr_bal.best_params_)"
   ]
  },
  {
   "cell_type": "code",
   "execution_count": 55,
   "id": "36690b03",
   "metadata": {
    "execution": {
     "iopub.execute_input": "2021-07-22T23:16:38.312612Z",
     "iopub.status.busy": "2021-07-22T23:16:38.311931Z",
     "iopub.status.idle": "2021-07-22T23:16:38.326577Z",
     "shell.execute_reply": "2021-07-22T23:16:38.327357Z",
     "shell.execute_reply.started": "2021-07-22T23:09:42.929044Z"
    },
    "papermill": {
     "duration": 0.125004,
     "end_time": "2021-07-22T23:16:38.327582",
     "exception": false,
     "start_time": "2021-07-22T23:16:38.202578",
     "status": "completed"
    },
    "tags": []
   },
   "outputs": [
    {
     "name": "stdout",
     "output_type": "stream",
     "text": [
      "accuracy_score: 0.675113363563617\n",
      "precision_score: 0.6668393782383419\n",
      "recall_score: 0.6911922663802363\n",
      "f1_score: 0.6787974683544303\n",
      "MSE: 0.3249\n"
     ]
    }
   ],
   "source": [
    "print_rez()"
   ]
  },
  {
   "cell_type": "code",
   "execution_count": 56,
   "id": "f34e0392",
   "metadata": {
    "execution": {
     "iopub.execute_input": "2021-07-22T23:16:38.547197Z",
     "iopub.status.busy": "2021-07-22T23:16:38.546513Z",
     "iopub.status.idle": "2021-07-22T23:16:38.807635Z",
     "shell.execute_reply": "2021-07-22T23:16:38.808104Z",
     "shell.execute_reply.started": "2021-07-22T23:09:42.957035Z"
    },
    "papermill": {
     "duration": 0.37246,
     "end_time": "2021-07-22T23:16:38.808298",
     "exception": false,
     "start_time": "2021-07-22T23:16:38.435838",
     "status": "completed"
    },
    "tags": []
   },
   "outputs": [
    {
     "data": {
      "image/png": "[encoded data removed]",
      "text/plain": [
       "<Figure size 432x288 with 2 Axes>"
      ]
     },
     "metadata": {},
     "output_type": "display_data"
    }
   ],
   "source": [
    "# Посмотрим на результат тренировки модели спомощью Confusion Matrix\n",
    "conf_matrix()"
   ]
  },
  {
   "cell_type": "code",
   "execution_count": 57,
   "id": "aa9868b5",
   "metadata": {
    "execution": {
     "iopub.execute_input": "2021-07-22T23:16:39.029323Z",
     "iopub.status.busy": "2021-07-22T23:16:39.028640Z",
     "iopub.status.idle": "2021-07-22T23:16:39.078945Z",
     "shell.execute_reply": "2021-07-22T23:16:39.079834Z",
     "shell.execute_reply.started": "2021-07-22T23:09:43.211504Z"
    },
    "papermill": {
     "duration": 0.162527,
     "end_time": "2021-07-22T23:16:39.080113",
     "exception": false,
     "start_time": "2021-07-22T23:16:38.917586",
     "status": "completed"
    },
    "tags": []
   },
   "outputs": [
    {
     "data": {
      "text/html": [
       "<div>\n",
       "<style scoped>\n",
       "    .dataframe tbody tr th:only-of-type {\n",
       "        vertical-align: middle;\n",
       "    }\n",
       "\n",
       "    .dataframe tbody tr th {\n",
       "        vertical-align: top;\n",
       "    }\n",
       "\n",
       "    .dataframe thead th {\n",
       "        text-align: right;\n",
       "    }\n",
       "</style>\n",
       "<table border=\"1\" class=\"dataframe\">\n",
       "  <thead>\n",
       "    <tr style=\"text-align: right;\">\n",
       "      <th></th>\n",
       "      <th>client_id</th>\n",
       "      <th>default</th>\n",
       "    </tr>\n",
       "  </thead>\n",
       "  <tbody>\n",
       "    <tr>\n",
       "      <th>0</th>\n",
       "      <td>74835</td>\n",
       "      <td>0.216085</td>\n",
       "    </tr>\n",
       "    <tr>\n",
       "      <th>1</th>\n",
       "      <td>17527</td>\n",
       "      <td>0.764922</td>\n",
       "    </tr>\n",
       "    <tr>\n",
       "      <th>2</th>\n",
       "      <td>75683</td>\n",
       "      <td>0.316088</td>\n",
       "    </tr>\n",
       "    <tr>\n",
       "      <th>3</th>\n",
       "      <td>26883</td>\n",
       "      <td>0.377780</td>\n",
       "    </tr>\n",
       "    <tr>\n",
       "      <th>4</th>\n",
       "      <td>28862</td>\n",
       "      <td>0.154296</td>\n",
       "    </tr>\n",
       "  </tbody>\n",
       "</table>\n",
       "</div>"
      ],
      "text/plain": [
       "   client_id   default\n",
       "0      74835  0.216085\n",
       "1      17527  0.764922\n",
       "2      75683  0.316088\n",
       "3      26883  0.377780\n",
       "4      28862  0.154296"
      ]
     },
     "execution_count": 57,
     "metadata": {},
     "output_type": "execute_result"
    }
   ],
   "source": [
    "# предсказание на тестовой модели и подготовка данных для Leaderboard\n",
    "test_df = df.query('default == -1').drop(['client_id', 'default_is', 'default'], axis=1)\n",
    "test['default'] = lr_bal.predict_proba(test_df)[:, 1]\n",
    "test[['client_id', 'default']].head()"
   ]
  },
  {
   "cell_type": "markdown",
   "id": "2bbe68f5",
   "metadata": {
    "papermill": {
     "duration": 0.108609,
     "end_time": "2021-07-22T23:16:39.340331",
     "exception": false,
     "start_time": "2021-07-22T23:16:39.231722",
     "status": "completed"
    },
    "tags": []
   },
   "source": [
    "## Используем модель CatBoostClassifier"
   ]
  },
  {
   "cell_type": "markdown",
   "id": "23318a94",
   "metadata": {
    "papermill": {
     "duration": 0.109122,
     "end_time": "2021-07-22T23:16:39.558730",
     "exception": false,
     "start_time": "2021-07-22T23:16:39.449608",
     "status": "completed"
    },
    "tags": []
   },
   "source": [
    "С балансированным датасетом для модели LogisticRegression попробуем ипользовать модель CatBoostClassifier"
   ]
  },
  {
   "cell_type": "code",
   "execution_count": 58,
   "id": "6ebbdad3",
   "metadata": {
    "execution": {
     "iopub.execute_input": "2021-07-22T23:16:39.802490Z",
     "iopub.status.busy": "2021-07-22T23:16:39.801435Z",
     "iopub.status.idle": "2021-07-22T23:16:44.985489Z",
     "shell.execute_reply": "2021-07-22T23:16:44.984560Z",
     "shell.execute_reply.started": "2021-07-22T23:09:43.262122Z"
    },
    "papermill": {
     "duration": 5.31721,
     "end_time": "2021-07-22T23:16:44.985639",
     "exception": false,
     "start_time": "2021-07-22T23:16:39.668429",
     "status": "completed"
    },
    "tags": []
   },
   "outputs": [
    {
     "data": {
      "image/png": "[encoded data removed]",
      "text/plain": [
       "<Figure size 432x288 with 1 Axes>"
      ]
     },
     "metadata": {},
     "output_type": "display_data"
    }
   ],
   "source": [
    "cat = CatBoostClassifier(n_estimators=1000,\n",
    "                         depth=2,\n",
    "                         logging_level='Silent')\n",
    "\n",
    "cat.fit(X_train, Y_train)\n",
    "probs = cat.predict_proba(X_test)\n",
    "Y_pred = cat.predict(X_test)\n",
    "probs = probs[:,1]\n",
    "\n",
    "model_scoring(Y_test,probs)"
   ]
  },
  {
   "cell_type": "code",
   "execution_count": 59,
   "id": "6644abc6",
   "metadata": {
    "execution": {
     "iopub.execute_input": "2021-07-22T23:16:45.214731Z",
     "iopub.status.busy": "2021-07-22T23:16:45.213893Z",
     "iopub.status.idle": "2021-07-22T23:16:45.229815Z",
     "shell.execute_reply": "2021-07-22T23:16:45.229296Z",
     "shell.execute_reply.started": "2021-07-22T23:09:48.494218Z"
    },
    "papermill": {
     "duration": 0.13167,
     "end_time": "2021-07-22T23:16:45.229967",
     "exception": false,
     "start_time": "2021-07-22T23:16:45.098297",
     "status": "completed"
    },
    "tags": []
   },
   "outputs": [
    {
     "name": "stdout",
     "output_type": "stream",
     "text": [
      "accuracy_score: 0.6703120832221926\n",
      "precision_score: 0.661340206185567\n",
      "recall_score: 0.6890440386680988\n",
      "f1_score: 0.6749079431877959\n",
      "MSE: 0.3297\n"
     ]
    }
   ],
   "source": [
    "print_rez()"
   ]
  },
  {
   "cell_type": "code",
   "execution_count": 60,
   "id": "92f392c5",
   "metadata": {
    "execution": {
     "iopub.execute_input": "2021-07-22T23:16:45.462654Z",
     "iopub.status.busy": "2021-07-22T23:16:45.456641Z",
     "iopub.status.idle": "2021-07-22T23:16:45.656508Z",
     "shell.execute_reply": "2021-07-22T23:16:45.656967Z",
     "shell.execute_reply.started": "2021-07-22T23:09:48.512746Z"
    },
    "papermill": {
     "duration": 0.315657,
     "end_time": "2021-07-22T23:16:45.657153",
     "exception": false,
     "start_time": "2021-07-22T23:16:45.341496",
     "status": "completed"
    },
    "tags": []
   },
   "outputs": [
    {
     "data": {
      "image/png": "[encoded data removed]",
      "text/plain": [
       "<Figure size 432x288 with 2 Axes>"
      ]
     },
     "metadata": {},
     "output_type": "display_data"
    }
   ],
   "source": [
    "# Посмотрим на результат тренировки модели спомощью Confusion Matrix\n",
    "conf_matrix()"
   ]
  },
  {
   "cell_type": "code",
   "execution_count": 61,
   "id": "b481fc58",
   "metadata": {
    "execution": {
     "iopub.execute_input": "2021-07-22T23:16:45.888186Z",
     "iopub.status.busy": "2021-07-22T23:16:45.887485Z",
     "iopub.status.idle": "2021-07-22T23:16:45.948477Z",
     "shell.execute_reply": "2021-07-22T23:16:45.947830Z",
     "shell.execute_reply.started": "2021-07-22T23:09:48.761465Z"
    },
    "papermill": {
     "duration": 0.179502,
     "end_time": "2021-07-22T23:16:45.948618",
     "exception": false,
     "start_time": "2021-07-22T23:16:45.769116",
     "status": "completed"
    },
    "tags": []
   },
   "outputs": [
    {
     "data": {
      "text/html": [
       "<div>\n",
       "<style scoped>\n",
       "    .dataframe tbody tr th:only-of-type {\n",
       "        vertical-align: middle;\n",
       "    }\n",
       "\n",
       "    .dataframe tbody tr th {\n",
       "        vertical-align: top;\n",
       "    }\n",
       "\n",
       "    .dataframe thead th {\n",
       "        text-align: right;\n",
       "    }\n",
       "</style>\n",
       "<table border=\"1\" class=\"dataframe\">\n",
       "  <thead>\n",
       "    <tr style=\"text-align: right;\">\n",
       "      <th></th>\n",
       "      <th>client_id</th>\n",
       "      <th>default</th>\n",
       "    </tr>\n",
       "  </thead>\n",
       "  <tbody>\n",
       "    <tr>\n",
       "      <th>0</th>\n",
       "      <td>74835</td>\n",
       "      <td>0.204371</td>\n",
       "    </tr>\n",
       "    <tr>\n",
       "      <th>1</th>\n",
       "      <td>17527</td>\n",
       "      <td>0.731473</td>\n",
       "    </tr>\n",
       "    <tr>\n",
       "      <th>2</th>\n",
       "      <td>75683</td>\n",
       "      <td>0.381614</td>\n",
       "    </tr>\n",
       "    <tr>\n",
       "      <th>3</th>\n",
       "      <td>26883</td>\n",
       "      <td>0.392154</td>\n",
       "    </tr>\n",
       "    <tr>\n",
       "      <th>4</th>\n",
       "      <td>28862</td>\n",
       "      <td>0.113634</td>\n",
       "    </tr>\n",
       "  </tbody>\n",
       "</table>\n",
       "</div>"
      ],
      "text/plain": [
       "   client_id   default\n",
       "0      74835  0.204371\n",
       "1      17527  0.731473\n",
       "2      75683  0.381614\n",
       "3      26883  0.392154\n",
       "4      28862  0.113634"
      ]
     },
     "execution_count": 61,
     "metadata": {},
     "output_type": "execute_result"
    }
   ],
   "source": [
    "# предсказание на тестовой модели и подготовка данных для Leaderboard\n",
    "test_df = df.query('default == -1').drop(['client_id', 'default_is', 'default'], axis=1)\n",
    "test['default'] = cat.predict_proba(test_df)[:, 1]\n",
    "test[['client_id', 'default']].head()"
   ]
  },
  {
   "cell_type": "markdown",
   "id": "508e68e8",
   "metadata": {
    "papermill": {
     "duration": 0.115284,
     "end_time": "2021-07-22T23:16:46.180305",
     "exception": false,
     "start_time": "2021-07-22T23:16:46.065021",
     "status": "completed"
    },
    "tags": []
   },
   "source": [
    "## Использовуем модель CatBoostClassifier для полного набора датасет train"
   ]
  },
  {
   "cell_type": "code",
   "execution_count": 62,
   "id": "22f99739",
   "metadata": {
    "execution": {
     "iopub.execute_input": "2021-07-22T23:16:46.415346Z",
     "iopub.status.busy": "2021-07-22T23:16:46.414589Z",
     "iopub.status.idle": "2021-07-22T23:16:46.464298Z",
     "shell.execute_reply": "2021-07-22T23:16:46.463647Z",
     "shell.execute_reply.started": "2021-07-22T23:09:48.824708Z"
    },
    "papermill": {
     "duration": 0.169557,
     "end_time": "2021-07-22T23:16:46.464444",
     "exception": false,
     "start_time": "2021-07-22T23:16:46.294887",
     "status": "completed"
    },
    "tags": []
   },
   "outputs": [],
   "source": [
    "# Подготовка данных для модели\n",
    "X_train, X_test, Y_train, Y_test = train_test_split(X, Y, \n",
    "                                    test_size=0.2, random_state=RANDOM_SEED)"
   ]
  },
  {
   "cell_type": "code",
   "execution_count": 63,
   "id": "cb3517a1",
   "metadata": {
    "execution": {
     "iopub.execute_input": "2021-07-22T23:16:48.490241Z",
     "iopub.status.busy": "2021-07-22T23:16:48.458402Z",
     "iopub.status.idle": "2021-07-22T23:17:07.467664Z",
     "shell.execute_reply": "2021-07-22T23:17:07.468367Z",
     "shell.execute_reply.started": "2021-07-22T23:09:48.877009Z"
    },
    "papermill": {
     "duration": 20.891855,
     "end_time": "2021-07-22T23:17:07.468562",
     "exception": false,
     "start_time": "2021-07-22T23:16:46.576707",
     "status": "completed"
    },
    "tags": []
   },
   "outputs": [
    {
     "data": {
      "image/png": "[encoded data removed]",
      "text/plain": [
       "<Figure size 432x288 with 1 Axes>"
      ]
     },
     "metadata": {},
     "output_type": "display_data"
    }
   ],
   "source": [
    "cat_pull = CatBoostClassifier(n_estimators=1500,\n",
    "                         depth=2,\n",
    "                         logging_level='Silent')\n",
    "\n",
    "cat_pull.fit(X_train, Y_train)\n",
    "probs = cat_pull.predict_proba(X_test)\n",
    "Y_pred = cat_pull.predict(X_test)\n",
    "probs = probs[:,1]\n",
    "\n",
    "model_scoring(Y_test,probs)"
   ]
  },
  {
   "cell_type": "code",
   "execution_count": 64,
   "id": "5bd71f19",
   "metadata": {
    "execution": {
     "iopub.execute_input": "2021-07-22T23:17:07.701600Z",
     "iopub.status.busy": "2021-07-22T23:17:07.700949Z",
     "iopub.status.idle": "2021-07-22T23:17:07.726538Z",
     "shell.execute_reply": "2021-07-22T23:17:07.725494Z",
     "shell.execute_reply.started": "2021-07-22T23:10:10.093955Z"
    },
    "papermill": {
     "duration": 0.142744,
     "end_time": "2021-07-22T23:17:07.726801",
     "exception": false,
     "start_time": "2021-07-22T23:17:07.584057",
     "status": "completed"
    },
    "tags": []
   },
   "outputs": [
    {
     "name": "stdout",
     "output_type": "stream",
     "text": [
      "accuracy_score: 0.8754065040650406\n",
      "precision_score: 0.43333333333333335\n",
      "recall_score: 0.021346469622331693\n",
      "f1_score: 0.04068857589984352\n",
      "MSE: 0.1246\n"
     ]
    }
   ],
   "source": [
    "print_rez()"
   ]
  },
  {
   "cell_type": "code",
   "execution_count": 65,
   "id": "fc82099a",
   "metadata": {
    "execution": {
     "iopub.execute_input": "2021-07-22T23:17:07.959705Z",
     "iopub.status.busy": "2021-07-22T23:17:07.959014Z",
     "iopub.status.idle": "2021-07-22T23:17:08.186606Z",
     "shell.execute_reply": "2021-07-22T23:17:08.185944Z",
     "shell.execute_reply.started": "2021-07-22T23:10:10.120591Z"
    },
    "papermill": {
     "duration": 0.345158,
     "end_time": "2021-07-22T23:17:08.186744",
     "exception": false,
     "start_time": "2021-07-22T23:17:07.841586",
     "status": "completed"
    },
    "tags": []
   },
   "outputs": [
    {
     "data": {
      "image/png": "[encoded data removed]",
      "text/plain": [
       "<Figure size 432x288 with 2 Axes>"
      ]
     },
     "metadata": {},
     "output_type": "display_data"
    }
   ],
   "source": [
    "# Посмотрим на результат тренировки модели спомощью Confusion Matrix\n",
    "conf_matrix()"
   ]
  },
  {
   "cell_type": "code",
   "execution_count": 66,
   "id": "2f3c90f1",
   "metadata": {
    "execution": {
     "iopub.execute_input": "2021-07-22T23:17:08.421902Z",
     "iopub.status.busy": "2021-07-22T23:17:08.421301Z",
     "iopub.status.idle": "2021-07-22T23:17:08.488285Z",
     "shell.execute_reply": "2021-07-22T23:17:08.487782Z",
     "shell.execute_reply.started": "2021-07-22T23:10:10.397194Z"
    },
    "papermill": {
     "duration": 0.187196,
     "end_time": "2021-07-22T23:17:08.488426",
     "exception": false,
     "start_time": "2021-07-22T23:17:08.301230",
     "status": "completed"
    },
    "tags": []
   },
   "outputs": [
    {
     "data": {
      "text/html": [
       "<div>\n",
       "<style scoped>\n",
       "    .dataframe tbody tr th:only-of-type {\n",
       "        vertical-align: middle;\n",
       "    }\n",
       "\n",
       "    .dataframe tbody tr th {\n",
       "        vertical-align: top;\n",
       "    }\n",
       "\n",
       "    .dataframe thead th {\n",
       "        text-align: right;\n",
       "    }\n",
       "</style>\n",
       "<table border=\"1\" class=\"dataframe\">\n",
       "  <thead>\n",
       "    <tr style=\"text-align: right;\">\n",
       "      <th></th>\n",
       "      <th>client_id</th>\n",
       "      <th>default</th>\n",
       "    </tr>\n",
       "  </thead>\n",
       "  <tbody>\n",
       "    <tr>\n",
       "      <th>0</th>\n",
       "      <td>74835</td>\n",
       "      <td>0.039047</td>\n",
       "    </tr>\n",
       "    <tr>\n",
       "      <th>1</th>\n",
       "      <td>17527</td>\n",
       "      <td>0.294303</td>\n",
       "    </tr>\n",
       "    <tr>\n",
       "      <th>2</th>\n",
       "      <td>75683</td>\n",
       "      <td>0.076218</td>\n",
       "    </tr>\n",
       "    <tr>\n",
       "      <th>3</th>\n",
       "      <td>26883</td>\n",
       "      <td>0.077174</td>\n",
       "    </tr>\n",
       "    <tr>\n",
       "      <th>4</th>\n",
       "      <td>28862</td>\n",
       "      <td>0.019470</td>\n",
       "    </tr>\n",
       "  </tbody>\n",
       "</table>\n",
       "</div>"
      ],
      "text/plain": [
       "   client_id   default\n",
       "0      74835  0.039047\n",
       "1      17527  0.294303\n",
       "2      75683  0.076218\n",
       "3      26883  0.077174\n",
       "4      28862  0.019470"
      ]
     },
     "execution_count": 66,
     "metadata": {},
     "output_type": "execute_result"
    }
   ],
   "source": [
    "# предскажем данные на тестовой модели и подготовим данные для Leaderboard\n",
    "test_df = df.query('default_is == 0').drop(['client_id', 'default_is','default'], axis=1)\n",
    "\n",
    "test['default'] = cat_pull.predict_proba(test_df)[:, 1]\n",
    "test[['client_id', 'default']].head()"
   ]
  },
  {
   "cell_type": "code",
   "execution_count": 67,
   "id": "9cf2acaa",
   "metadata": {
    "execution": {
     "iopub.execute_input": "2021-07-22T23:17:08.725444Z",
     "iopub.status.busy": "2021-07-22T23:17:08.724385Z",
     "iopub.status.idle": "2021-07-22T23:17:08.863018Z",
     "shell.execute_reply": "2021-07-22T23:17:08.863783Z",
     "shell.execute_reply.started": "2021-07-22T23:14:34.906009Z"
    },
    "papermill": {
     "duration": 0.261048,
     "end_time": "2021-07-22T23:17:08.863996",
     "exception": false,
     "start_time": "2021-07-22T23:17:08.602948",
     "status": "completed"
    },
    "tags": []
   },
   "outputs": [],
   "source": [
    "submission = test[['client_id', 'default']]\n",
    "submission.to_csv(\"submission.csv\", index=False)"
   ]
  },
  {
   "cell_type": "markdown",
   "id": "e0fd319e",
   "metadata": {
    "papermill": {
     "duration": 0.116333,
     "end_time": "2021-07-22T23:17:09.095087",
     "exception": false,
     "start_time": "2021-07-22T23:17:08.978754",
     "status": "completed"
    },
    "tags": []
   },
   "source": [
    "Результаты стали лучше, чем были в модели логистической регресии с гиперпараметрами, поэтому для submission будет использована модель CatBoostingClassifier\n"
   ]
  }
 ],
 "metadata": {
  "kernelspec": {
   "display_name": "Python 3",
   "language": "python",
   "name": "python3"
  },
  "language_info": {
   "codemirror_mode": {
    "name": "ipython",
    "version": 3
   },
   "file_extension": ".py",
   "mimetype": "text/x-python",
   "name": "python",
   "nbconvert_exporter": "python",
   "pygments_lexer": "ipython3",
   "version": "3.7.10"
  },
  "papermill": {
   "default_parameters": {},
   "duration": 113.053129,
   "end_time": "2021-07-22T23:17:11.102507",
   "environment_variables": {},
   "exception": null,
   "input_path": "__notebook__.ipynb",
   "output_path": "__notebook__.ipynb",
   "parameters": {},
   "start_time": "2021-07-22T23:15:18.049378",
   "version": "2.3.3"
  }
 },
 "nbformat": 4,
 "nbformat_minor": 5
}
